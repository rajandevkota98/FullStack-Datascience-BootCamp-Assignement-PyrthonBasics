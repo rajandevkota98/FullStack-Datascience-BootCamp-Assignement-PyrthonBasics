{
 "cells": [
  {
   "cell_type": "markdown",
   "id": "428868eb",
   "metadata": {},
   "source": [
    "# 1. Add the current date to the text file today.txt as a string."
   ]
  },
  {
   "cell_type": "code",
   "execution_count": 2,
   "id": "16aaa92b",
   "metadata": {},
   "outputs": [],
   "source": [
    "import datetime"
   ]
  },
  {
   "cell_type": "code",
   "execution_count": 3,
   "id": "ca985cf4",
   "metadata": {},
   "outputs": [],
   "source": [
    "today = datetime.date.today()"
   ]
  },
  {
   "cell_type": "code",
   "execution_count": 4,
   "id": "c4960148",
   "metadata": {},
   "outputs": [],
   "source": [
    "with open('today.txt', 'a') as file:\n",
    "    file.write(str(today))"
   ]
  },
  {
   "cell_type": "markdown",
   "id": "a2577b09",
   "metadata": {},
   "source": [
    "# 2. Read the text file today.txt into the string today_string"
   ]
  },
  {
   "cell_type": "code",
   "execution_count": 5,
   "id": "76df8edc",
   "metadata": {},
   "outputs": [],
   "source": [
    "with open('today.txt','r') as file:\n",
    "    today_string = file.read()"
   ]
  },
  {
   "cell_type": "code",
   "execution_count": 6,
   "id": "7f4a3b10",
   "metadata": {},
   "outputs": [
    {
     "data": {
      "text/plain": [
       "'2023-05-02'"
      ]
     },
     "execution_count": 6,
     "metadata": {},
     "output_type": "execute_result"
    }
   ],
   "source": [
    "today_string"
   ]
  },
  {
   "cell_type": "markdown",
   "id": "448bd060",
   "metadata": {},
   "source": [
    "# 3. Parse the date from today_string."
   ]
  },
  {
   "cell_type": "code",
   "execution_count": 7,
   "id": "02b80583",
   "metadata": {},
   "outputs": [
    {
     "data": {
      "text/plain": [
       "['2023', '05', '02']"
      ]
     },
     "execution_count": 7,
     "metadata": {},
     "output_type": "execute_result"
    }
   ],
   "source": [
    "today_string.split('-')"
   ]
  },
  {
   "cell_type": "markdown",
   "id": "e576bff2",
   "metadata": {},
   "source": [
    "# 4. List the files in your current directory"
   ]
  },
  {
   "cell_type": "code",
   "execution_count": 8,
   "id": "774bb358",
   "metadata": {},
   "outputs": [],
   "source": [
    "import os"
   ]
  },
  {
   "cell_type": "code",
   "execution_count": 12,
   "id": "0e2ee468",
   "metadata": {},
   "outputs": [
    {
     "data": {
      "text/plain": [
       "['book.db',\n",
       " 'Assignment 6.ipynb',\n",
       " 'output_file.pdf',\n",
       " 'Assignment 17.ipynb',\n",
       " 'Untitled1.ipynb',\n",
       " 'Assignment 10.ipynb',\n",
       " 'Assignment 5.ipynb',\n",
       " 'Assignment 12.ipynb',\n",
       " '.ipynb_checkpoints',\n",
       " 'today.txt',\n",
       " 'Assignment 19.ipynb',\n",
       " 'Assignment16.ipynb',\n",
       " 'Assignment 13.ipynb',\n",
       " 'Assignment 20.ipynb',\n",
       " 'Assignment 18.ipynb',\n",
       " 'Assignment 21.ipynb',\n",
       " 'Assignemt 7.ipynb',\n",
       " 'Assignment 12 Updated.ipynb',\n",
       " 'Untitled.ipynb',\n",
       " 'Assignment 14.ipynb',\n",
       " 'Assignment 11.ipynb',\n",
       " 'books.csv',\n",
       " 'new.jpg',\n",
       " 'Assignment 4.ipynb',\n",
       " 'Assignment 8.ipynb',\n",
       " 'books.db',\n",
       " 'test.txt',\n",
       " 'Assignment15.ipynb',\n",
       " 'Assignment 9.ipynb']"
      ]
     },
     "execution_count": 12,
     "metadata": {},
     "output_type": "execute_result"
    }
   ],
   "source": [
    "os.listdir()"
   ]
  },
  {
   "cell_type": "markdown",
   "id": "653649f1",
   "metadata": {},
   "source": [
    "# 5. Create a list of all of the files in your parent directory (minimum five files should be available)."
   ]
  },
  {
   "cell_type": "code",
   "execution_count": 13,
   "id": "994d681a",
   "metadata": {},
   "outputs": [],
   "source": [
    "list_dir = [i for i in os.listdir()]"
   ]
  },
  {
   "cell_type": "code",
   "execution_count": 14,
   "id": "4e8e3654",
   "metadata": {},
   "outputs": [
    {
     "data": {
      "text/plain": [
       "['book.db',\n",
       " 'Assignment 6.ipynb',\n",
       " 'output_file.pdf',\n",
       " 'Assignment 17.ipynb',\n",
       " 'Untitled1.ipynb',\n",
       " 'Assignment 10.ipynb',\n",
       " 'Assignment 5.ipynb',\n",
       " 'Assignment 12.ipynb',\n",
       " '.ipynb_checkpoints',\n",
       " 'today.txt',\n",
       " 'Assignment 19.ipynb',\n",
       " 'Assignment16.ipynb',\n",
       " 'Assignment 13.ipynb',\n",
       " 'Assignment 20.ipynb',\n",
       " 'Assignment 18.ipynb',\n",
       " 'Assignment 21.ipynb',\n",
       " 'Assignemt 7.ipynb',\n",
       " 'Assignment 12 Updated.ipynb',\n",
       " 'Untitled.ipynb',\n",
       " 'Assignment 14.ipynb',\n",
       " 'Assignment 11.ipynb',\n",
       " 'books.csv',\n",
       " 'new.jpg',\n",
       " 'Assignment 4.ipynb',\n",
       " 'Assignment 8.ipynb',\n",
       " 'books.db',\n",
       " 'test.txt',\n",
       " 'Assignment15.ipynb',\n",
       " 'Assignment 9.ipynb']"
      ]
     },
     "execution_count": 14,
     "metadata": {},
     "output_type": "execute_result"
    }
   ],
   "source": [
    "list_dir"
   ]
  },
  {
   "cell_type": "markdown",
   "id": "e709b81d",
   "metadata": {},
   "source": [
    "# 6. Use multiprocessing to create three separate processes. Make each one wait a random number of seconds between one and five, print the current time, and then exit."
   ]
  },
  {
   "cell_type": "code",
   "execution_count": null,
   "id": "48e83359",
   "metadata": {},
   "outputs": [],
   "source": []
  },
  {
   "cell_type": "markdown",
   "id": "4149b03e",
   "metadata": {},
   "source": [
    "# 7. Create a date object of your day of birth."
   ]
  },
  {
   "cell_type": "code",
   "execution_count": 15,
   "id": "bc4b0a66",
   "metadata": {},
   "outputs": [],
   "source": [
    "from datetime import date\n"
   ]
  },
  {
   "cell_type": "code",
   "execution_count": 16,
   "id": "aec18cff",
   "metadata": {},
   "outputs": [],
   "source": [
    "birthdate = date(2001, 6,17)"
   ]
  },
  {
   "cell_type": "code",
   "execution_count": 18,
   "id": "b6a3b041",
   "metadata": {},
   "outputs": [
    {
     "name": "stdout",
     "output_type": "stream",
     "text": [
      "2001-06-17\n"
     ]
    }
   ],
   "source": [
    "print(birthdate)"
   ]
  },
  {
   "cell_type": "markdown",
   "id": "6a7122b4",
   "metadata": {},
   "source": [
    "# 8. What day of the week was your day of birth?"
   ]
  },
  {
   "cell_type": "code",
   "execution_count": 19,
   "id": "d022876c",
   "metadata": {},
   "outputs": [
    {
     "data": {
      "text/plain": [
       "6"
      ]
     },
     "execution_count": 19,
     "metadata": {},
     "output_type": "execute_result"
    }
   ],
   "source": [
    "birthdate.weekday()"
   ]
  },
  {
   "cell_type": "markdown",
   "id": "e07f237d",
   "metadata": {},
   "source": [
    "so, friday"
   ]
  },
  {
   "cell_type": "markdown",
   "id": "8f430cd8",
   "metadata": {},
   "source": [
    "# 9. When will you be (or when were you) 10,000 days old?"
   ]
  },
  {
   "cell_type": "code",
   "execution_count": 20,
   "id": "0cb26b18",
   "metadata": {},
   "outputs": [],
   "source": [
    "from datetime import date, timedelta\n"
   ]
  },
  {
   "cell_type": "code",
   "execution_count": 22,
   "id": "348763d9",
   "metadata": {},
   "outputs": [
    {
     "data": {
      "text/plain": [
       "datetime.date(2028, 11, 2)"
      ]
     },
     "execution_count": 22,
     "metadata": {},
     "output_type": "execute_result"
    }
   ],
   "source": [
    "birthdate + timedelta(days = 10000)"
   ]
  }
 ],
 "metadata": {
  "kernelspec": {
   "display_name": "Python 3 (ipykernel)",
   "language": "python",
   "name": "python3"
  },
  "language_info": {
   "codemirror_mode": {
    "name": "ipython",
    "version": 3
   },
   "file_extension": ".py",
   "mimetype": "text/x-python",
   "name": "python",
   "nbconvert_exporter": "python",
   "pygments_lexer": "ipython3",
   "version": "3.10.9"
  }
 },
 "nbformat": 4,
 "nbformat_minor": 5
}
