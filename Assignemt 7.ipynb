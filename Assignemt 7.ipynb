{
 "cells": [
  {
   "cell_type": "markdown",
   "id": "cc6940ec",
   "metadata": {},
   "source": [
    "# 1. What is the name of the feature responsible for generating Regex objects?"
   ]
  },
  {
   "cell_type": "code",
   "execution_count": 1,
   "id": "8200a32c",
   "metadata": {},
   "outputs": [],
   "source": [
    "import re\n"
   ]
  },
  {
   "cell_type": "markdown",
   "id": "98839d13",
   "metadata": {},
   "source": [
    "This 're' module is responsible for generating Regex objects."
   ]
  },
  {
   "cell_type": "markdown",
   "id": "98e25a62",
   "metadata": {},
   "source": [
    "# 2. Why do raw strings often appear in Regex objects?"
   ]
  },
  {
   "cell_type": "markdown",
   "id": "cdf41a71",
   "metadata": {},
   "source": [
    "Raw strings are often used in regular expression patterns because they allow you to write the pattern without worrying about escaping special characters. In regular expressions, certain characters have special meanings and need to be escaped with a backslash (\\) in order to be interpreted literally. For example, the dot (.) character is a special character in regular expressions that matches any character except for a newline"
   ]
  },
  {
   "cell_type": "markdown",
   "id": "cf68be2d",
   "metadata": {},
   "source": [
    "# 3. What is the return value of the search() method?"
   ]
  },
  {
   "cell_type": "code",
   "execution_count": 2,
   "id": "1c971bba",
   "metadata": {},
   "outputs": [],
   "source": [
    "pattern = re.compile(r'hello')\n",
    "string = 'hello Rajan'"
   ]
  },
  {
   "cell_type": "code",
   "execution_count": 3,
   "id": "a79775f9",
   "metadata": {},
   "outputs": [],
   "source": [
    "match = pattern.search(string)"
   ]
  },
  {
   "cell_type": "code",
   "execution_count": 4,
   "id": "30100993",
   "metadata": {},
   "outputs": [
    {
     "name": "stdout",
     "output_type": "stream",
     "text": [
      "True\n"
     ]
    }
   ],
   "source": [
    "if match:\n",
    "    print('True')\n",
    "else:\n",
    "    print('no match')"
   ]
  },
  {
   "cell_type": "markdown",
   "id": "c78ec854",
   "metadata": {},
   "source": [
    "# 4. From a Match item, how do you get the actual strings that match the pattern?"
   ]
  },
  {
   "cell_type": "code",
   "execution_count": 5,
   "id": "fabd1bde",
   "metadata": {},
   "outputs": [
    {
     "data": {
      "text/plain": [
       "'hello'"
      ]
     },
     "execution_count": 5,
     "metadata": {},
     "output_type": "execute_result"
    }
   ],
   "source": [
    "match.group()"
   ]
  },
  {
   "cell_type": "markdown",
   "id": "04b7b1ef",
   "metadata": {},
   "source": [
    "# 5. In the regex which created from the r&#39;(\\d\\d\\d)-(\\d\\d\\d-\\d\\d\\d\\d)&#39;, what does group zero cover?# Group 2? Group 1?"
   ]
  },
  {
   "cell_type": "markdown",
   "id": "81d0064e",
   "metadata": {},
   "source": [
    "group(0) --> covers entire (\\d\\d\\d)-(\\d\\d\\d-\\d\\d\\d\\d)\n",
    "\n",
    "group1 =  (\\d\\d\\d)\n",
    "\n",
    "group2 = (\\d\\d\\d-\\d\\d\\d\\d)"
   ]
  },
  {
   "cell_type": "markdown",
   "id": "a6c12975",
   "metadata": {},
   "source": [
    "# 6. In standard expression syntax, parentheses and intervals have distinct meanings. How can you tell a regex that you want it to fit real parentheses and periods?"
   ]
  },
  {
   "cell_type": "markdown",
   "id": "7c2b62d2",
   "metadata": {},
   "source": [
    "to match parenthesis we need to use = \\ ()"
   ]
  },
  {
   "cell_type": "markdown",
   "id": "86a39a05",
   "metadata": {},
   "source": [
    "if we want to extract sequence of (.com) then ==> \\(\\.com\\)"
   ]
  },
  {
   "cell_type": "markdown",
   "id": "4fa11951",
   "metadata": {},
   "source": [
    "# 7. The findall() method returns a string list or a list of string tuples. What causes it to return one of the two options?"
   ]
  },
  {
   "cell_type": "markdown",
   "id": "1d38263f",
   "metadata": {},
   "source": [
    "The findall() method is a regular expression (regex) function that searches for all non-overlapping occurrences of a given pattern in a string and returns the matches as a list of strings or a list of tuples."
   ]
  },
  {
   "cell_type": "markdown",
   "id": "4cacab5c",
   "metadata": {},
   "source": [
    "# 8. In standard expressions, what does the | character mean?"
   ]
  },
  {
   "cell_type": "markdown",
   "id": "ce062998",
   "metadata": {},
   "source": [
    "'|' is used as 'or'."
   ]
  },
  {
   "cell_type": "markdown",
   "id": "39fe6883",
   "metadata": {},
   "source": [
    "# 9. In regular expressions, what does the character stand for?"
   ]
  },
  {
   "cell_type": "markdown",
   "id": "6533a81a",
   "metadata": {},
   "source": [
    "In regular expressions, the | (pipe or vertical bar) character is used as an alternation or \"OR\" operator."
   ]
  },
  {
   "cell_type": "markdown",
   "id": "bec049ca",
   "metadata": {},
   "source": [
    "# 10.In regular expressions, what is the difference between the + and * characters?"
   ]
  },
  {
   "cell_type": "markdown",
   "id": "e42e591a",
   "metadata": {},
   "source": [
    "In regular expression '+' refers to the one element interval wherease * refers to the unlimited element after it."
   ]
  },
  {
   "cell_type": "markdown",
   "id": "416700fe",
   "metadata": {},
   "source": [
    "# 11. What is the difference between {4} and {4,5} in regular expression?"
   ]
  },
  {
   "cell_type": "markdown",
   "id": "d6eca177",
   "metadata": {},
   "source": [
    "{4} matches exactly 4 occurrences of the preceding pattern.\n",
    "\n",
    "{4,5} matches at least 4 occurrences and at most 5 occurrences of the preceding pattern."
   ]
  },
  {
   "cell_type": "markdown",
   "id": "aad0e844",
   "metadata": {},
   "source": [
    "# 12. What do you mean by the \\d, \\w, and \\s shorthand character classes signify in regular expressions?"
   ]
  },
  {
   "cell_type": "markdown",
   "id": "9c013731",
   "metadata": {},
   "source": [
    "\\d ---> matches digits.\n",
    "\n",
    "\\w ---> matches word character\n",
    "\n",
    "\n",
    "\\s ---> matches whitespace character"
   ]
  },
  {
   "cell_type": "markdown",
   "id": "51b49472",
   "metadata": {},
   "source": [
    "# 13. What do means by \\D, \\W, and \\S shorthand character classes signify in regular expressions?"
   ]
  },
  {
   "cell_type": "markdown",
   "id": "cc9763e6",
   "metadata": {},
   "source": [
    "\\D ---> matches non digits.\n",
    "\n",
    "\\W ---> matches non word character\n",
    "\n",
    "\\S ---> matches non whitespace character"
   ]
  },
  {
   "cell_type": "markdown",
   "id": "04cd1ce7",
   "metadata": {},
   "source": [
    "# 14. What is the difference between .*? and .*?"
   ]
  },
  {
   "cell_type": "markdown",
   "id": "75d47aa3",
   "metadata": {},
   "source": [
    "both are same.\n",
    "\n",
    ".*--> It matches as many character as possible."
   ]
  },
  {
   "cell_type": "markdown",
   "id": "bd0ff9b0",
   "metadata": {},
   "source": [
    "# 15. What is the syntax for matching both numbers and lowercase letters with a character class?"
   ]
  },
  {
   "cell_type": "markdown",
   "id": "9f9955c4",
   "metadata": {},
   "source": [
    "[0-9a-z]\n"
   ]
  },
  {
   "cell_type": "markdown",
   "id": "a8553d4f",
   "metadata": {},
   "source": [
    "# 16. What is the procedure for making a normal expression in regax case insensitive?"
   ]
  },
  {
   "cell_type": "markdown",
   "id": "48444bf1",
   "metadata": {},
   "source": [
    "By using re.IGNORECASE"
   ]
  },
  {
   "cell_type": "markdown",
   "id": "8ebae436",
   "metadata": {},
   "source": [
    "# 17. What does the . character normally match? What does it match if re.DOTALL is passed as 2nd argument in re.compile()?"
   ]
  },
  {
   "cell_type": "markdown",
   "id": "26a0492b",
   "metadata": {},
   "source": [
    "In regular expressions, the dot (.) character normally matches any character except for a newline character (\\n).\n",
    "\n"
   ]
  },
  {
   "cell_type": "markdown",
   "id": "7cd73a07",
   "metadata": {},
   "source": [
    "# 18. If numReg = re.compile(r&#39;\\d+&#39;), what will numRegex.sub(&#39;X&#39;, &#39;11 drummers, 10 pipers, five rings, 4 hen&#39;) return?"
   ]
  },
  {
   "cell_type": "markdown",
   "id": "8910bd11",
   "metadata": {},
   "source": [
    "The numReg regular expression object in the question is defined to match one or more digits (\\d+)."
   ]
  },
  {
   "cell_type": "markdown",
   "id": "15b84acc",
   "metadata": {},
   "source": [
    "It will return: \"X drummers, X pipers, five rings, X hen\"\n"
   ]
  },
  {
   "cell_type": "markdown",
   "id": "e100923a",
   "metadata": {},
   "source": [
    "# 19. What does passing re.VERBOSE as the 2nd argument to re.compile() allow to do?"
   ]
  },
  {
   "cell_type": "markdown",
   "id": "4d6155d8",
   "metadata": {},
   "source": [
    "Passing re.VERBOSE as the second argument to re.compile() allows you to add comments and whitespace to a regular expression pattern for readability, without affecting the actual pattern matching."
   ]
  },
  {
   "cell_type": "markdown",
   "id": "8f04db94",
   "metadata": {},
   "source": [
    "# 20. How would you write a regex that match a number with comma for every three digits? It must\n",
    "# match the given following:\n",
    "# &#39;42&#39;\n",
    "# &#39;1,234&#39;\n",
    "# &#39;6,368,745&#39;\n",
    "\n",
    "# but not the following:\n",
    "# &#39;12,34,567&#39; (which has only two digits between the commas)\n",
    "# &#39;1234&#39; (which lacks commas)"
   ]
  },
  {
   "cell_type": "markdown",
   "id": "e3ca9bb4",
   "metadata": {},
   "source": [
    "The regular expression to match a number with a comma for every three digits is: ^\\d{1,3}(,\\d{3})*$.\n",
    "\n",
    "\n",
    "\n",
    "\n"
   ]
  },
  {
   "cell_type": "markdown",
   "id": "65db3c87",
   "metadata": {},
   "source": [
    "# 21. How would you write a regex that matches the full name of someone whose last name isWatanabe? You can assume that the first name that comes before it will always be one word that begins with a capital letter. The regex must match the following:\n",
    "## &#39;Haruto Watanabe&#39;\n",
    "## &#39;Alice Watanabe&#39;\n",
    "## &#39;RoboCop Watanabe&#39;\n",
    "## but not the following:\n",
    "### &#39;haruto Watanabe&#39; (where the first name is not capitalized)\n",
    "## &#39;Mr. Watanabe&#39; (where the preceding word has a nonletter character)\n",
    "### &#39;Watanabe&#39; (which has no first name)\n",
    "### &#39;Haruto watanabe&#39; (where Watanabe is not capitalized)"
   ]
  },
  {
   "cell_type": "markdown",
   "id": "78ccb4a6",
   "metadata": {},
   "source": [
    "To match the full name of someone whose last name is Watanabe, with the first name being a single word beginning with a capital letter, you can use the following regular expression:\n",
    "^[A-Z][a-z]*\\sWatanabe$\n",
    "\n"
   ]
  },
  {
   "cell_type": "markdown",
   "id": "78150910",
   "metadata": {},
   "source": [
    "# 22. How would you write a regex that matches a sentence where the first word is either Alice, Bob, or Carol; the second word is either eats, pets, or throws; the third word is apples, cats, or baseballs; and the sentence ends with a period? This regex should be case-insensitive. It must match the following:\n",
    "## &#39;Alice eats apples.&#39;\n",
    "## &#39;Bob pets cats.&#39;\n",
    "## &#39;Carol throws baseballs.&#39;\n",
    "## &#39;Alice throws Apples.&#39;\n",
    "## &#39;BOB EATS CATS.&#39;\n",
    "## but not the following:\n",
    "## &#39;RoboCop eats apples.&#39;\n",
    "## &#39;ALICE THROWS FOOTBALLS.&#39;\n",
    "## &#39;Carol eats 7 cats.&#39;"
   ]
  },
  {
   "cell_type": "markdown",
   "id": "2ba5d799",
   "metadata": {},
   "source": [
    "^(Alice|Bob|Carol)\\s+(eats|pets|throws)\\s+(apples|cats|baseballs)\\.$\n"
   ]
  },
  {
   "cell_type": "code",
   "execution_count": null,
   "id": "b7acea11",
   "metadata": {},
   "outputs": [],
   "source": []
  }
 ],
 "metadata": {
  "kernelspec": {
   "display_name": "Python 3 (ipykernel)",
   "language": "python",
   "name": "python3"
  },
  "language_info": {
   "codemirror_mode": {
    "name": "ipython",
    "version": 3
   },
   "file_extension": ".py",
   "mimetype": "text/x-python",
   "name": "python",
   "nbconvert_exporter": "python",
   "pygments_lexer": "ipython3",
   "version": "3.10.9"
  }
 },
 "nbformat": 4,
 "nbformat_minor": 5
}
