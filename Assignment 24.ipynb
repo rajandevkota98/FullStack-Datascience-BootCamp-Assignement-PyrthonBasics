{
 "cells": [
  {
   "cell_type": "markdown",
   "id": "1247ebad",
   "metadata": {},
   "source": [
    "# 1. What is the relationship between def statements and lambda expressions ?"
   ]
  },
  {
   "cell_type": "markdown",
   "id": "6e251469",
   "metadata": {},
   "source": [
    "A def statement is used to define a function with a name, arguments, and a block of code that is executed when the function is called. "
   ]
  },
  {
   "cell_type": "code",
   "execution_count": 3,
   "id": "54668cb5",
   "metadata": {},
   "outputs": [],
   "source": [
    "def square(x):\n",
    "    return x**2\n"
   ]
  },
  {
   "cell_type": "markdown",
   "id": "8549a8b9",
   "metadata": {},
   "source": [
    "On the other hand, a lambda expression is a way of defining a function without giving it a name. Instead, it returns a function object that can be assigned to a variable or passed as an argument to another function. "
   ]
  },
  {
   "cell_type": "code",
   "execution_count": 4,
   "id": "937eeef3",
   "metadata": {},
   "outputs": [],
   "source": [
    "square = lambda x: x**2\n"
   ]
  },
  {
   "cell_type": "markdown",
   "id": "5dd6709b",
   "metadata": {},
   "source": [
    "# 2. What is the benefit of lambda?"
   ]
  },
  {
   "cell_type": "markdown",
   "id": "7c05ec2c",
   "metadata": {},
   "source": [
    "One of the main benefits of using lambda expressions in Python is that they allow you to create simple functions quickly and easily, without the need for a def statement and a separate function name.\n",
    "\n"
   ]
  },
  {
   "cell_type": "markdown",
   "id": "9cbfc14c",
   "metadata": {},
   "source": [
    "# 3. Compare and contrast map, filter, and reduce."
   ]
  },
  {
   "cell_type": "code",
   "execution_count": 5,
   "id": "e1427206",
   "metadata": {},
   "outputs": [
    {
     "name": "stdout",
     "output_type": "stream",
     "text": [
      "[1, 4, 9, 16, 25]\n"
     ]
    }
   ],
   "source": [
    "# map\n",
    "\n",
    "# Square each element in a list\n",
    "numbers = [1, 2, 3, 4, 5]\n",
    "squares = map(lambda x: x ** 2, numbers)\n",
    "print(list(squares))  # Output: [1, 4, 9, 16, 25]\n"
   ]
  },
  {
   "cell_type": "code",
   "execution_count": 6,
   "id": "df1188e8",
   "metadata": {},
   "outputs": [
    {
     "name": "stdout",
     "output_type": "stream",
     "text": [
      "[2, 4]\n"
     ]
    }
   ],
   "source": [
    "#filter\n",
    "# Filter out odd numbers from a list\n",
    "numbers = [1, 2, 3, 4, 5]\n",
    "evens = filter(lambda x: x % 2 == 0, numbers)\n",
    "print(list(evens))  # Output: [2, 4]\n"
   ]
  },
  {
   "cell_type": "code",
   "execution_count": 14,
   "id": "b8ec31f2",
   "metadata": {},
   "outputs": [
    {
     "name": "stdout",
     "output_type": "stream",
     "text": [
      "15\n"
     ]
    }
   ],
   "source": [
    "# Calculate the sum of a list\n",
    "from functools import reduce\n",
    "numbers = [1, 2, 3, 4, 5]\n",
    "sum = reduce(lambda x, y: x + y, numbers)\n",
    "print(sum)  # Output: 15\n"
   ]
  },
  {
   "cell_type": "markdown",
   "id": "b78b1c4f",
   "metadata": {},
   "source": [
    "# 4. What are function annotations, and how are they used?"
   ]
  },
  {
   "cell_type": "markdown",
   "id": "39e56c56",
   "metadata": {},
   "source": [
    "Function annotations are a feature in Python that allow you to attach metadata to function arguments and return values. Function annotations are specified using a colon after the argument or return value name, followed by the annotation expression. Here is an example:"
   ]
  },
  {
   "cell_type": "code",
   "execution_count": 15,
   "id": "76463355",
   "metadata": {},
   "outputs": [],
   "source": [
    "def greet(name: str) -> str:\n",
    "    return \"Hello, \" + name\n"
   ]
  },
  {
   "cell_type": "markdown",
   "id": "8fd7f082",
   "metadata": {},
   "source": [
    "# 5. What are recursive functions, and how are they used?"
   ]
  },
  {
   "cell_type": "markdown",
   "id": "3ea5ffd3",
   "metadata": {},
   "source": [
    "Recursive function are the function which call itself during it execution until it reaches the base case."
   ]
  },
  {
   "cell_type": "code",
   "execution_count": 9,
   "id": "a833c7a6",
   "metadata": {},
   "outputs": [],
   "source": [
    "def factorial(n):\n",
    "    if n==1:\n",
    "        return 1\n",
    "    else:\n",
    "        return n*factorial(n-1)"
   ]
  },
  {
   "cell_type": "code",
   "execution_count": 11,
   "id": "1cf0d50c",
   "metadata": {},
   "outputs": [
    {
     "data": {
      "text/plain": [
       "120"
      ]
     },
     "execution_count": 11,
     "metadata": {},
     "output_type": "execute_result"
    }
   ],
   "source": [
    "factorial(5)"
   ]
  },
  {
   "cell_type": "markdown",
   "id": "90c68cfa",
   "metadata": {},
   "source": [
    "# 6. What are some general design guidelines for coding functions?"
   ]
  },
  {
   "cell_type": "markdown",
   "id": "b7aa9f0e",
   "metadata": {},
   "source": [
    "Here are some general design guidelines for coding functions:\n",
    "\n",
    "**Function naming:** Choose a descriptive and meaningful name for the function that accurately reflects its purpose and functionality. The name should be concise and follow a consistent naming convention.\n",
    "\n",
    "**Function arguments:** Keep the number of arguments to a minimum, and use default values for optional arguments if possible. Ensure that the argument names are descriptive and follow a consistent naming convention. Also, avoid using mutable objects as default argument values, as this can lead to unexpected behavior.\n",
    "\n",
    "**Function length:** Keep the function short and focused on a specific task. Aim for functions that can be understood and tested in isolation. If a function is too long, consider breaking it down into smaller, more focused functions.\n",
    "\n",
    "**Function structure:** Use a consistent structure for your functions, with a clear beginning, middle, and end. The beginning should include any necessary setup or initialization, the middle should include the main logic of the function, and the end should include any necessary cleanup or finalization.\n",
    "\n",
    "**Function documentation**: Provide clear and concise documentation for your functions that describes their purpose, arguments, return values, and any exceptions that they may raise. Use docstrings to document the function, and include examples of how to use the function if possible.\n",
    "\n",
    "**Function testing:** Write automated tests for your functions to ensure that they produce the expected output for a given set of inputs. Use a consistent testing framework, and test both the normal and edge cases.\n",
    "\n",
    "**Function error handling:** Include appropriate error handling in your functions to handle unexpected inputs or exceptions. Raise exceptions when the function encounters an error or invalid input, and provide clear error messages that describe the problem.\n",
    "\n",
    "By following these general design guidelines, you can create functions that are clear, concise, and easy to understand and maintain.\n",
    "\n",
    "\n",
    "\n",
    "\n"
   ]
  },
  {
   "cell_type": "markdown",
   "id": "65d469e6",
   "metadata": {},
   "source": [
    "# 7. Name three or more ways that functions can communicate results to a caller.\n",
    "\n"
   ]
  },
  {
   "cell_type": "markdown",
   "id": "cf5acd00",
   "metadata": {},
   "source": [
    "**Return statement:** Functions can use the return statement to return a value or object to the caller. The return value can be a single value, a tuple of values, or a complex object.\n",
    "\n",
    "**Output parameters:** Functions can use output parameters to communicate results to the caller. Output parameters are additional function arguments that are used to return values or objects to the caller.\n",
    "\n",
    "\n",
    "**Exceptions:** Functions can raise exceptions to communicate errors or exceptional conditions to the caller. Exceptions provide a way to communicate error messages and stack traces to the caller, and can be caught and handled by the caller using try and except statements."
   ]
  },
  {
   "cell_type": "code",
   "execution_count": null,
   "id": "d0b9d44a",
   "metadata": {},
   "outputs": [],
   "source": []
  }
 ],
 "metadata": {
  "kernelspec": {
   "display_name": "Python 3 (ipykernel)",
   "language": "python",
   "name": "python3"
  },
  "language_info": {
   "codemirror_mode": {
    "name": "ipython",
    "version": 3
   },
   "file_extension": ".py",
   "mimetype": "text/x-python",
   "name": "python",
   "nbconvert_exporter": "python",
   "pygments_lexer": "ipython3",
   "version": "3.10.9"
  }
 },
 "nbformat": 4,
 "nbformat_minor": 5
}
