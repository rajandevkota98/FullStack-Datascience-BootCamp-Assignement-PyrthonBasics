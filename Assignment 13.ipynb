{
 "cells": [
  {
   "cell_type": "markdown",
   "id": "8d8f4aa8",
   "metadata": {},
   "source": [
    "# 1. What advantages do Excel spreadsheets have over CSV spreadsheets?"
   ]
  },
  {
   "cell_type": "markdown",
   "id": "296cc890",
   "metadata": {},
   "source": [
    "Excel spreadsheets have several advantages over CSV spreadsheets, including:\n",
    "\n",
    "**Data formatting**: Excel allows for formatting of data, such as adding bold or italicized text, changing font size and color, adding borders and shading, and using different types of charts and graphs. This can make the data easier to read and understand.\n",
    "\n",
    "**Formula calculations**: Excel allows for complex formula calculations, such as using functions to sum, average, or count values in a column. This can save time and improve accuracy when working with large amounts of data.\n",
    "\n",
    "**Data validation**: Excel allows for data validation, which means you can set rules to ensure data is entered correctly. For example, you can set a rule to only allow dates in a certain format or limit the number of characters in a cell.\n",
    "\n",
    "**User-friendly interface**: Excel has a user-friendly interface that allows you to easily navigate through the spreadsheet and make changes. This can save time and reduce the risk of errors.\n",
    "\n",
    "**Customization**: Excel allows for customization of the interface and formatting options, so you can tailor the spreadsheet to your needs and preferences."
   ]
  },
  {
   "cell_type": "markdown",
   "id": "f6d0b918",
   "metadata": {},
   "source": [
    "# 2.What do you pass to csv.reader() and csv.writer() to create reader and writer objects?"
   ]
  },
  {
   "cell_type": "markdown",
   "id": "dbd6e319",
   "metadata": {},
   "source": [
    "**for creating reader**\n",
    "\n",
    "import csv\n",
    "\n",
    "with open('example.csv', 'r') as file:\n",
    "\n",
    "    reader = csv.reader(file)\n",
    "    \n",
    "    for row in reader:\n",
    "        \n",
    "**for creating writer**\n",
    "\n",
    "import csv\n",
    "\n",
    "with open('example.csv', 'w', newline='') as file:\n",
    "\n",
    "    writer = csv.writer(file)\n",
    "    \n",
    "    writer.writerow(['Mary', '30', 'Female'])"
   ]
  },
  {
   "cell_type": "markdown",
   "id": "a145ba7a",
   "metadata": {},
   "source": [
    "# 3. What modes do File objects for reader and writer objects need to be opened in?"
   ]
  },
  {
   "cell_type": "markdown",
   "id": "f0b9354b",
   "metadata": {},
   "source": [
    "File objects for reader ---> r -mode\n",
    "\n",
    "File objects for writer ---> w -mode"
   ]
  },
  {
   "cell_type": "markdown",
   "id": "a808a781",
   "metadata": {},
   "source": [
    "# 4. What method takes a list argument and writes it to a CSV file?"
   ]
  },
  {
   "cell_type": "markdown",
   "id": "3a2e81bd",
   "metadata": {},
   "source": [
    "The csv.writer() method in Python's built-in csv module provides a writerow() method that takes a list argument and writes it as a row in a CSV file."
   ]
  },
  {
   "cell_type": "markdown",
   "id": "427e142c",
   "metadata": {},
   "source": [
    "# 5. What do the keyword arguments delimiter and line terminator do?"
   ]
  },
  {
   "cell_type": "markdown",
   "id": "6b7f8700",
   "metadata": {},
   "source": [
    "**delimiter**: This keyword argument specifies the character used to separate fields in the CSV file. By default, the delimiter is set to ','. \n",
    "    \n",
    "**lineterminator**: This keyword argument specifies the character used to terminate each row in the CSV file. By default, the line terminator is set to '\\r\\n'"
   ]
  },
  {
   "cell_type": "markdown",
   "id": "90ecfa96",
   "metadata": {},
   "source": [
    "# 6. What function takes a string of JSON data and returns a Python data structure?\n",
    "\n"
   ]
  },
  {
   "cell_type": "markdown",
   "id": "86df808e",
   "metadata": {},
   "source": [
    "import json\n",
    "\n",
    "json_data = '{\"name\": \"John\", \"age\": 30, \"city\": \"New York\"}'\n",
    "\n",
    "python_data = json.loads(json_data)\n"
   ]
  },
  {
   "cell_type": "markdown",
   "id": "953ee053",
   "metadata": {},
   "source": [
    "# 7. What function takes a Python data structure and returns a string of JSON data?"
   ]
  },
  {
   "cell_type": "markdown",
   "id": "e19c6c76",
   "metadata": {},
   "source": [
    "import json\n",
    "\n",
    "python_data = {'name': 'John', 'age': 30, 'city': 'New York'}\n",
    "\n",
    "json_data = json.dumps(python_data)\n"
   ]
  }
 ],
 "metadata": {
  "kernelspec": {
   "display_name": "Python 3 (ipykernel)",
   "language": "python",
   "name": "python3"
  },
  "language_info": {
   "codemirror_mode": {
    "name": "ipython",
    "version": 3
   },
   "file_extension": ".py",
   "mimetype": "text/x-python",
   "name": "python",
   "nbconvert_exporter": "python",
   "pygments_lexer": "ipython3",
   "version": "3.10.9"
  }
 },
 "nbformat": 4,
 "nbformat_minor": 5
}
