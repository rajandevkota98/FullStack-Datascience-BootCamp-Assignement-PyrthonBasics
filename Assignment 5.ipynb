{
 "cells": [
  {
   "cell_type": "markdown",
   "id": "1a87ae6f",
   "metadata": {},
   "source": [
    "# 1. What does an empty dictionary&#39;s code look like?"
   ]
  },
  {
   "cell_type": "code",
   "execution_count": 1,
   "id": "cb6bf8fb",
   "metadata": {},
   "outputs": [],
   "source": [
    "dict = {}"
   ]
  },
  {
   "cell_type": "markdown",
   "id": "8aa57a65",
   "metadata": {},
   "source": [
    "This is an example of empty dictinary."
   ]
  },
  {
   "cell_type": "markdown",
   "id": "f72fe15a",
   "metadata": {},
   "source": [
    "# 2. What is the value of a dictionary value with the key &#39;foo&#39; and the value 42?"
   ]
  },
  {
   "cell_type": "code",
   "execution_count": 3,
   "id": "2987dc5f",
   "metadata": {},
   "outputs": [],
   "source": [
    "new_dict =  {'foo':42}"
   ]
  },
  {
   "cell_type": "markdown",
   "id": "75703f99",
   "metadata": {},
   "source": [
    "# 3. What is the most significant distinction between a dictionary and a list?"
   ]
  },
  {
   "cell_type": "markdown",
   "id": "d080146c",
   "metadata": {},
   "source": [
    "list is a sequence of element situated in indexed mannure whereas the dictionary is data structure of key value pair."
   ]
  },
  {
   "cell_type": "markdown",
   "id": "f59ceb6c",
   "metadata": {},
   "source": [
    "# 4. What happens if you try to access spam[&#39;foo&#39;] if spam is {&#39;bar&#39;: 100}?"
   ]
  },
  {
   "cell_type": "code",
   "execution_count": 4,
   "id": "a5862938",
   "metadata": {},
   "outputs": [],
   "source": [
    "spam = {'bar':100}"
   ]
  },
  {
   "cell_type": "markdown",
   "id": "61b95aae",
   "metadata": {},
   "source": [
    "You will see keyError."
   ]
  },
  {
   "cell_type": "markdown",
   "id": "9f1662d4",
   "metadata": {},
   "source": [
    "# 5. If a dictionary is stored in spam, what is the difference between the expressions &#39;cat&#39; in spam and &#39;cat&#39; in spam.keys()?"
   ]
  },
  {
   "cell_type": "code",
   "execution_count": 7,
   "id": "f932a945",
   "metadata": {},
   "outputs": [],
   "source": [
    "spam = {'cat': 1}"
   ]
  },
  {
   "cell_type": "code",
   "execution_count": 8,
   "id": "3db82ee1",
   "metadata": {},
   "outputs": [
    {
     "data": {
      "text/plain": [
       "1"
      ]
     },
     "execution_count": 8,
     "metadata": {},
     "output_type": "execute_result"
    }
   ],
   "source": [
    "spam['cat']"
   ]
  },
  {
   "cell_type": "code",
   "execution_count": 9,
   "id": "f0278d13",
   "metadata": {},
   "outputs": [
    {
     "data": {
      "text/plain": [
       "True"
      ]
     },
     "execution_count": 9,
     "metadata": {},
     "output_type": "execute_result"
    }
   ],
   "source": [
    "'cat' in spam.keys()"
   ]
  },
  {
   "cell_type": "markdown",
   "id": "7cff5b89",
   "metadata": {},
   "source": [
    "spam['cat'] gives the value associated with the 'cat' where as 'cat' in spam.keys( ) checks whether cat is in keys or not."
   ]
  },
  {
   "cell_type": "markdown",
   "id": "ecf6939c",
   "metadata": {},
   "source": [
    "# 6. If a dictionary is stored in spam, what is the difference between the expressions &#39;cat&#39; in spam and &#39;cat&#39; in spam.values()?"
   ]
  },
  {
   "cell_type": "code",
   "execution_count": 10,
   "id": "42f05393",
   "metadata": {},
   "outputs": [
    {
     "data": {
      "text/plain": [
       "True"
      ]
     },
     "execution_count": 10,
     "metadata": {},
     "output_type": "execute_result"
    }
   ],
   "source": [
    "'cat' in spam"
   ]
  },
  {
   "cell_type": "code",
   "execution_count": 11,
   "id": "7d3d652d",
   "metadata": {},
   "outputs": [
    {
     "data": {
      "text/plain": [
       "False"
      ]
     },
     "execution_count": 11,
     "metadata": {},
     "output_type": "execute_result"
    }
   ],
   "source": [
    "'cat' in spam.values()"
   ]
  },
  {
   "cell_type": "markdown",
   "id": "5a4ac861",
   "metadata": {},
   "source": [
    "'cat' in spam sees whether 'cat' is key or not, whereas 'cat' in spam.values() sees whether 'cat' is in values or not."
   ]
  },
  {
   "cell_type": "markdown",
   "id": "1bdbd58a",
   "metadata": {},
   "source": [
    "# 7. What is a shortcut for the following code?"
   ]
  },
  {
   "cell_type": "code",
   "execution_count": 20,
   "id": "f3dee6f1",
   "metadata": {},
   "outputs": [],
   "source": [
    "spam = {}\n",
    "if 'color' not in spam:\n",
    "    spam['color'] = 'black'"
   ]
  },
  {
   "cell_type": "code",
   "execution_count": 21,
   "id": "030c0489",
   "metadata": {},
   "outputs": [
    {
     "data": {
      "text/plain": [
       "'black'"
      ]
     },
     "execution_count": 21,
     "metadata": {},
     "output_type": "execute_result"
    }
   ],
   "source": [
    "spam.setdefault('color', 'black')"
   ]
  }
 ],
 "metadata": {
  "kernelspec": {
   "display_name": "Python 3 (ipykernel)",
   "language": "python",
   "name": "python3"
  },
  "language_info": {
   "codemirror_mode": {
    "name": "ipython",
    "version": 3
   },
   "file_extension": ".py",
   "mimetype": "text/x-python",
   "name": "python",
   "nbconvert_exporter": "python",
   "pygments_lexer": "ipython3",
   "version": "3.10.9"
  }
 },
 "nbformat": 4,
 "nbformat_minor": 5
}
