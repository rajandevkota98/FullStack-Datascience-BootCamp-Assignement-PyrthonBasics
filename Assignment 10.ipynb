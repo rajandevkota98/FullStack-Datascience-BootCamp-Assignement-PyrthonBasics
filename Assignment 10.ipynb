{
 "cells": [
  {
   "cell_type": "markdown",
   "id": "7c3739f8",
   "metadata": {},
   "source": [
    "# 1. How do you distinguish between shutil.copy() and shutil.copytree()?"
   ]
  },
  {
   "cell_type": "markdown",
   "id": "10c4193b",
   "metadata": {},
   "source": [
    "shutil.copy() is used to copy a single file, while shutil.copytree() is used to copy an entire directory and its content."
   ]
  },
  {
   "cell_type": "markdown",
   "id": "e3f87be7",
   "metadata": {},
   "source": [
    "# 2. What function is used to rename files??"
   ]
  },
  {
   "cell_type": "markdown",
   "id": "c6ac3777",
   "metadata": {},
   "source": [
    "os.rename(src, dst) is used to rename the file."
   ]
  },
  {
   "cell_type": "markdown",
   "id": "aeb413fd",
   "metadata": {},
   "source": [
    "# 3. What is the difference between the delete functions in the send2trash and shutil modules?"
   ]
  },
  {
   "cell_type": "code",
   "execution_count": 2,
   "id": "4618535f",
   "metadata": {},
   "outputs": [],
   "source": [
    "import send2trash\n"
   ]
  },
  {
   "cell_type": "markdown",
   "id": "a333011f",
   "metadata": {},
   "source": [
    "send2trash.send2trash('/path/file.txt') --> It deletes the file to the trash."
   ]
  },
  {
   "cell_type": "markdown",
   "id": "86336ff6",
   "metadata": {},
   "source": [
    "shutil.rmtree('/path/file.txt') ---> It deletes with out further chances of recovery. "
   ]
  },
  {
   "cell_type": "markdown",
   "id": "3a1de1d1",
   "metadata": {},
   "source": [
    "# 4.ZipFile objects have a close() method just like File objects’ close() method. What ZipFile method is equivalent to File objects’ open() method?"
   ]
  },
  {
   "cell_type": "raw",
   "id": "9e9db8ce",
   "metadata": {},
   "source": [
    "import zipfile\n",
    "\n",
    "# Open a zip archive in read mode\n",
    "with zipfile.ZipFile('example.zip', 'r') as myzip:\n",
    "    # Do something with the archive\n",
    "    print(myzip.namelist())\n"
   ]
  },
  {
   "cell_type": "markdown",
   "id": "b5298485",
   "metadata": {},
   "source": [
    "Overall, the ZipFile() constructor in the zipfile module is equivalent to the open() method of the File object in Python, as it is used to create a new object that represents a file or archive and allows us to perform operations on it.\n",
    "\n",
    "\n",
    "\n",
    "\n"
   ]
  }
 ],
 "metadata": {
  "kernelspec": {
   "display_name": "Python 3 (ipykernel)",
   "language": "python",
   "name": "python3"
  },
  "language_info": {
   "codemirror_mode": {
    "name": "ipython",
    "version": 3
   },
   "file_extension": ".py",
   "mimetype": "text/x-python",
   "name": "python",
   "nbconvert_exporter": "python",
   "pygments_lexer": "ipython3",
   "version": "3.10.9"
  }
 },
 "nbformat": 4,
 "nbformat_minor": 5
}
