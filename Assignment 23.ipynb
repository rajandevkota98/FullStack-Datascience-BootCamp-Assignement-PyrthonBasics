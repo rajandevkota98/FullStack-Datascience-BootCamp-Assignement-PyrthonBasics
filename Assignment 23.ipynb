{
 "cells": [
  {
   "cell_type": "markdown",
   "id": "a2112d29",
   "metadata": {},
   "source": [
    "# 1. What is the result of the code, and why?\n",
    "\n",
    "&gt;&gt;&gt; def func(a, b=6, c=8):\n",
    "\n",
    "print(a, b, c)\n",
    "\n",
    "&gt;&gt;&gt; func(1, 2)"
   ]
  },
  {
   "cell_type": "code",
   "execution_count": 1,
   "id": "56d6ca34",
   "metadata": {},
   "outputs": [],
   "source": [
    "def func(a, b=6, c= 8):\n",
    "    print(a,b,c)"
   ]
  },
  {
   "cell_type": "code",
   "execution_count": 2,
   "id": "27853a26",
   "metadata": {},
   "outputs": [
    {
     "name": "stdout",
     "output_type": "stream",
     "text": [
      "1 2 8\n"
     ]
    }
   ],
   "source": [
    "func(1,2)"
   ]
  },
  {
   "cell_type": "markdown",
   "id": "29ac9f28",
   "metadata": {},
   "source": [
    "The default value of b is 6. When we pass 2, the value 2 is set to the parameter b."
   ]
  },
  {
   "cell_type": "markdown",
   "id": "6e2782e4",
   "metadata": {},
   "source": [
    "# 2. What is the result of this code, and why?\n",
    "\n",
    "&gt;&gt;&gt; def func(a, b, c=5):\n",
    "    \n",
    "print(a, b, c)\n",
    "\n",
    "&gt;&gt;&gt; func(1, c=3, b=2)"
   ]
  },
  {
   "cell_type": "code",
   "execution_count": 3,
   "id": "4471d2ba",
   "metadata": {},
   "outputs": [],
   "source": [
    "def func(a,b,c =5):\n",
    "    print(a,b,c)\n"
   ]
  },
  {
   "cell_type": "code",
   "execution_count": 4,
   "id": "a0be417f",
   "metadata": {},
   "outputs": [
    {
     "name": "stdout",
     "output_type": "stream",
     "text": [
      "1 2 3\n"
     ]
    }
   ],
   "source": [
    "func(1,c=3,b=2)"
   ]
  },
  {
   "cell_type": "markdown",
   "id": "20eaf0c9",
   "metadata": {},
   "source": [
    "When we pass value with the parameter, it doesn't go with position but if value are passed without the variable, then it will be positional variable."
   ]
  },
  {
   "cell_type": "markdown",
   "id": "7d20a962",
   "metadata": {},
   "source": [
    "# 3. How about this code: what is its result, and why?\n",
    "    \n",
    "&gt;&gt;&gt; def func(a, *pargs):\n",
    "    \n",
    "print(a, pargs)\n",
    "\n",
    "&gt;&gt;&gt; func(1, 2, 3)"
   ]
  },
  {
   "cell_type": "code",
   "execution_count": 5,
   "id": "395b5066",
   "metadata": {},
   "outputs": [],
   "source": [
    "def func(a, *pargs):\n",
    "    print(a,pargs)"
   ]
  },
  {
   "cell_type": "code",
   "execution_count": 6,
   "id": "09cdc93e",
   "metadata": {},
   "outputs": [
    {
     "name": "stdout",
     "output_type": "stream",
     "text": [
      "1 (2, 3)\n"
     ]
    }
   ],
   "source": [
    "func(1,2,3)"
   ]
  },
  {
   "cell_type": "markdown",
   "id": "1a222473",
   "metadata": {},
   "source": [
    "It can take up to any numbers."
   ]
  },
  {
   "cell_type": "code",
   "execution_count": 7,
   "id": "8388f67b",
   "metadata": {},
   "outputs": [
    {
     "name": "stdout",
     "output_type": "stream",
     "text": [
      "1 (2, 3, 4, 5, 6)\n"
     ]
    }
   ],
   "source": [
    "func(1,2,3,4,5,6)"
   ]
  },
  {
   "cell_type": "markdown",
   "id": "84b81e2d",
   "metadata": {},
   "source": [
    "# 4. What does this code print, and why?\n",
    "\n",
    "&gt;&gt;&gt; def func(a, **kargs):\n",
    "    \n",
    "print(a, kargs)\n",
    "\n",
    "&gt;&gt;&gt; func(a=1, c=3, b=2)"
   ]
  },
  {
   "cell_type": "code",
   "execution_count": 9,
   "id": "ef4675d3",
   "metadata": {},
   "outputs": [],
   "source": [
    "def func(a, **kargs):\n",
    "\n",
    "    print(a, kargs)\n",
    "\n"
   ]
  },
  {
   "cell_type": "code",
   "execution_count": 10,
   "id": "47c85169",
   "metadata": {},
   "outputs": [
    {
     "name": "stdout",
     "output_type": "stream",
     "text": [
      "1 {'c': 3, 'b': 2}\n"
     ]
    }
   ],
   "source": [
    "func(a=1, c=3, b=2)"
   ]
  },
  {
   "cell_type": "markdown",
   "id": "5e92b1cc",
   "metadata": {},
   "source": [
    "keyword args take the value in the form of keyvalue pair."
   ]
  },
  {
   "cell_type": "markdown",
   "id": "075fdba2",
   "metadata": {},
   "source": [
    "# 5. What gets printed by this, and explain?\n",
    "\n",
    "&gt;&gt;&gt; def func(a, b, c=8, d=5):\n",
    "\n",
    "print(a, b, c, d)\n",
    "    \n",
    "&gt;&gt;&gt; func(1, *(5, 6))"
   ]
  },
  {
   "cell_type": "code",
   "execution_count": 11,
   "id": "2286e0b5",
   "metadata": {},
   "outputs": [],
   "source": [
    "def func(a, b, c=8, d=5):\n",
    "\n",
    "    print(a, b, c, d)\n",
    "\n"
   ]
  },
  {
   "cell_type": "code",
   "execution_count": 12,
   "id": "4c025ab2",
   "metadata": {},
   "outputs": [
    {
     "name": "stdout",
     "output_type": "stream",
     "text": [
      "1 5 6 5\n"
     ]
    }
   ],
   "source": [
    "func(1, *(5, 6))"
   ]
  },
  {
   "cell_type": "markdown",
   "id": "8bfb6ff9",
   "metadata": {},
   "source": [
    "when we do not provide value, it will take from the default value."
   ]
  },
  {
   "cell_type": "markdown",
   "id": "a45ffba1",
   "metadata": {},
   "source": [
    "# 6. what is the result of this, and explain?\n",
    "&gt;&gt;&gt; def func(a, b, c):\n",
    "\n",
    "    a = 2; b[0] = &#39;x&#39;; c[&#39;a&#39;] = &#39;y&#39;\n",
    "    \n",
    "&gt;&gt;&gt; l=1; m=[1]; n={&#39;a&#39;:0}\n",
    "\n",
    "&gt;&gt;&gt; func(l, m, n)"
   ]
  },
  {
   "cell_type": "code",
   "execution_count": 14,
   "id": "1d0ea6e5",
   "metadata": {},
   "outputs": [
    {
     "name": "stdout",
     "output_type": "stream",
     "text": [
      "1 [1] {'a': 'y'}\n"
     ]
    }
   ],
   "source": [
    "def func(a, b, c):\n",
    "    a = 2\n",
    "    b = ['x']\n",
    "    c['a'] = 'y'\n",
    "\n",
    "l = 1\n",
    "m = [1]\n",
    "n = {'a': 0}\n",
    "\n",
    "func(l, m, n)\n",
    "\n",
    "print(l, m, n)\n"
   ]
  }
 ],
 "metadata": {
  "kernelspec": {
   "display_name": "Python 3 (ipykernel)",
   "language": "python",
   "name": "python3"
  },
  "language_info": {
   "codemirror_mode": {
    "name": "ipython",
    "version": 3
   },
   "file_extension": ".py",
   "mimetype": "text/x-python",
   "name": "python",
   "nbconvert_exporter": "python",
   "pygments_lexer": "ipython3",
   "version": "3.10.9"
  }
 },
 "nbformat": 4,
 "nbformat_minor": 5
}
