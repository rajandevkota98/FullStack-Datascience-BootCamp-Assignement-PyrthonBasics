{
 "cells": [
  {
   "cell_type": "markdown",
   "id": "83c3dc5d",
   "metadata": {},
   "source": [
    "# 1. What are escape characters, and how do you use them?"
   ]
  },
  {
   "cell_type": "markdown",
   "id": "2c3ad219",
   "metadata": {},
   "source": [
    "Escape characters are special characters used in programming languages and other applications to represent characters that are not easily typed or displayed using a keyboard or other input device. They are called \"escape\" characters because they allow you to escape the usual interpretation of a character."
   ]
  },
  {
   "cell_type": "markdown",
   "id": "25d04d10",
   "metadata": {},
   "source": [
    "'\\n' --> Represent a new line\n",
    "\n",
    "'\\t' --> Represent a tab"
   ]
  },
  {
   "cell_type": "markdown",
   "id": "8df21105",
   "metadata": {},
   "source": [
    "# 2. What do the escape characters n and t stand for?"
   ]
  },
  {
   "cell_type": "markdown",
   "id": "7324eae2",
   "metadata": {},
   "source": [
    "'\\n' --> Represent a new line\n",
    "\n",
    "'\\t' --> Represent a tab"
   ]
  },
  {
   "cell_type": "code",
   "execution_count": 3,
   "id": "c4936fcd",
   "metadata": {},
   "outputs": [
    {
     "name": "stdout",
     "output_type": "stream",
     "text": [
      "Hello this is first line.'\n",
      "' This is second line\n"
     ]
    }
   ],
   "source": [
    "print(\"Hello this is first line.'\\n' This is second line\")"
   ]
  },
  {
   "cell_type": "code",
   "execution_count": 4,
   "id": "178ebfc2",
   "metadata": {},
   "outputs": [
    {
     "name": "stdout",
     "output_type": "stream",
     "text": [
      "Hello this is first line.'\t'This is tab before this line\n"
     ]
    }
   ],
   "source": [
    "print(\"Hello this is first line.'\\t'This is tab before this line\")"
   ]
  },
  {
   "cell_type": "markdown",
   "id": "34de2d9b",
   "metadata": {},
   "source": [
    "# 3. What is the way to include backslash characters in a string?"
   ]
  },
  {
   "cell_type": "markdown",
   "id": "921026c7",
   "metadata": {},
   "source": [
    "Using '\\\\' to include '\\'.\n"
   ]
  },
  {
   "cell_type": "code",
   "execution_count": 7,
   "id": "ae08d28a",
   "metadata": {},
   "outputs": [
    {
     "name": "stdout",
     "output_type": "stream",
     "text": [
      "\\n\n"
     ]
    }
   ],
   "source": [
    "print('\\\\n')"
   ]
  },
  {
   "cell_type": "markdown",
   "id": "e898ea86",
   "metadata": {},
   "source": [
    "# 4. The string &quot;Howl&#39;s Moving Castle&quot; is a correct value. Why isn&#39;t the single quote character in theword Howl&#39;s not escaped a problem?"
   ]
  },
  {
   "cell_type": "markdown",
   "id": "509118f5",
   "metadata": {},
   "source": [
    "there is double quotes in the starting of the string whereas there is single quotes in the middle. so it won't cause any problem."
   ]
  },
  {
   "cell_type": "markdown",
   "id": "6f3da8be",
   "metadata": {},
   "source": [
    "# 5. How do you write a string of newlines if you don&#39;t want to use the n character?"
   ]
  },
  {
   "cell_type": "code",
   "execution_count": null,
   "id": "2b7636d0",
   "metadata": {},
   "outputs": [],
   "source": []
  },
  {
   "cell_type": "markdown",
   "id": "7464161a",
   "metadata": {},
   "source": [
    "# 6. What are the values of the given expressions?\n",
    "&#39;Hello, world!&#39;[1]\n",
    "\n",
    "&#39;Hello, world!&#39;[0:5]\n",
    "\n",
    "&#39;Hello, world!&#39;[:5]\n",
    "\n",
    "&#39;Hello, world!&#39;[3:]"
   ]
  },
  {
   "cell_type": "code",
   "execution_count": 8,
   "id": "4b13ebe7",
   "metadata": {},
   "outputs": [
    {
     "data": {
      "text/plain": [
       "'e'"
      ]
     },
     "execution_count": 8,
     "metadata": {},
     "output_type": "execute_result"
    }
   ],
   "source": [
    "'Hello, world'[1]"
   ]
  },
  {
   "cell_type": "markdown",
   "id": "961d119a",
   "metadata": {},
   "source": [
    "It index the string."
   ]
  },
  {
   "cell_type": "markdown",
   "id": "82d86e87",
   "metadata": {},
   "source": [
    "'Hello, world'[0:5] --> yield 'Hello'"
   ]
  },
  {
   "cell_type": "markdown",
   "id": "be8786fb",
   "metadata": {},
   "source": [
    "'Hello, world'[:5] --> yield 'Hello'"
   ]
  },
  {
   "cell_type": "markdown",
   "id": "bb667245",
   "metadata": {},
   "source": [
    "'Hello, world!'[3:] --> yield 'lo, world'"
   ]
  },
  {
   "cell_type": "markdown",
   "id": "e8635fac",
   "metadata": {},
   "source": [
    "# 7. What are the values of the following expressions?\n",
    "# &#39;Hello&#39;.upper()\n",
    "# &#39;Hello&#39;.upper().isupper()\n",
    "# &#39;Hello&#39;.upper().lower()"
   ]
  },
  {
   "cell_type": "code",
   "execution_count": 11,
   "id": "c550f9f0",
   "metadata": {},
   "outputs": [
    {
     "data": {
      "text/plain": [
       "'HELLO'"
      ]
     },
     "execution_count": 11,
     "metadata": {},
     "output_type": "execute_result"
    }
   ],
   "source": [
    "'Hello'.upper()"
   ]
  },
  {
   "cell_type": "code",
   "execution_count": 14,
   "id": "c3179c15",
   "metadata": {},
   "outputs": [
    {
     "data": {
      "text/plain": [
       "True"
      ]
     },
     "execution_count": 14,
     "metadata": {},
     "output_type": "execute_result"
    }
   ],
   "source": [
    "'Hello'.upper().isupper()"
   ]
  },
  {
   "cell_type": "code",
   "execution_count": 15,
   "id": "acbd441f",
   "metadata": {},
   "outputs": [
    {
     "data": {
      "text/plain": [
       "'hello'"
      ]
     },
     "execution_count": 15,
     "metadata": {},
     "output_type": "execute_result"
    }
   ],
   "source": [
    "'Hello'.upper().lower()"
   ]
  },
  {
   "cell_type": "markdown",
   "id": "e0e9c83d",
   "metadata": {},
   "source": [
    "# 8. What are the values of the following expressions?\n",
    "# &#39;Remember, remember, the fifth of July.&#39;.split()\n",
    "# '-&#39;.join(&#39;There can only one.&#39;.split())"
   ]
  },
  {
   "cell_type": "code",
   "execution_count": 16,
   "id": "d5a96c17",
   "metadata": {},
   "outputs": [
    {
     "data": {
      "text/plain": [
       "['Remember,', 'remember,', 'the', 'fifth', 'of', 'July.']"
      ]
     },
     "execution_count": 16,
     "metadata": {},
     "output_type": "execute_result"
    }
   ],
   "source": [
    "'Remember, remember, the fifth of July.'.split()"
   ]
  },
  {
   "cell_type": "markdown",
   "id": "07d142a3",
   "metadata": {},
   "source": [
    "Split the whole string based on the space."
   ]
  },
  {
   "cell_type": "code",
   "execution_count": 19,
   "id": "cfbda1d7",
   "metadata": {},
   "outputs": [
    {
     "data": {
      "text/plain": [
       "'There-can-only-one.'"
      ]
     },
     "execution_count": 19,
     "metadata": {},
     "output_type": "execute_result"
    }
   ],
   "source": [
    "'-'.join('There can only one.'.split())"
   ]
  },
  {
   "cell_type": "markdown",
   "id": "c291d409",
   "metadata": {},
   "source": [
    "it replace the spaces with the element with desired element using join."
   ]
  },
  {
   "cell_type": "markdown",
   "id": "990886c2",
   "metadata": {},
   "source": [
    "# 9. What are the methods for right-justifying, left-justifying, and centering a string?"
   ]
  },
  {
   "cell_type": "code",
   "execution_count": 23,
   "id": "0b2e7d85",
   "metadata": {},
   "outputs": [
    {
     "data": {
      "text/plain": [
       "'     Hello'"
      ]
     },
     "execution_count": 23,
     "metadata": {},
     "output_type": "execute_result"
    }
   ],
   "source": [
    "'Hello'.rjust(10)"
   ]
  },
  {
   "cell_type": "code",
   "execution_count": 24,
   "id": "d0d8a132",
   "metadata": {},
   "outputs": [
    {
     "data": {
      "text/plain": [
       "'Hello     '"
      ]
     },
     "execution_count": 24,
     "metadata": {},
     "output_type": "execute_result"
    }
   ],
   "source": [
    "'Hello'.ljust(10)"
   ]
  },
  {
   "cell_type": "code",
   "execution_count": 25,
   "id": "1be0c5d2",
   "metadata": {},
   "outputs": [
    {
     "data": {
      "text/plain": [
       "'  Hello   '"
      ]
     },
     "execution_count": 25,
     "metadata": {},
     "output_type": "execute_result"
    }
   ],
   "source": [
    "'Hello'.center(10)"
   ]
  },
  {
   "cell_type": "markdown",
   "id": "766cf6d8",
   "metadata": {},
   "source": [
    "# 10. What is the best way to remove whitespace characters from the start or end?"
   ]
  },
  {
   "cell_type": "markdown",
   "id": "7e7dd820",
   "metadata": {},
   "source": [
    "strip is the method of removing spaces from strat and end.\n"
   ]
  },
  {
   "cell_type": "code",
   "execution_count": 26,
   "id": "53b89d68",
   "metadata": {},
   "outputs": [
    {
     "data": {
      "text/plain": [
       "'Hello'"
      ]
     },
     "execution_count": 26,
     "metadata": {},
     "output_type": "execute_result"
    }
   ],
   "source": [
    "' Hello   '.strip()"
   ]
  }
 ],
 "metadata": {
  "kernelspec": {
   "display_name": "Python 3 (ipykernel)",
   "language": "python",
   "name": "python3"
  },
  "language_info": {
   "codemirror_mode": {
    "name": "ipython",
    "version": 3
   },
   "file_extension": ".py",
   "mimetype": "text/x-python",
   "name": "python",
   "nbconvert_exporter": "python",
   "pygments_lexer": "ipython3",
   "version": "3.10.9"
  }
 },
 "nbformat": 4,
 "nbformat_minor": 5
}
