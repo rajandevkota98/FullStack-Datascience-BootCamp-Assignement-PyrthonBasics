{
 "cells": [
  {
   "cell_type": "markdown",
   "id": "0bf265fa",
   "metadata": {},
   "source": [
    "# 1. Why are functions advantageous to have in your programs?"
   ]
  },
  {
   "cell_type": "raw",
   "id": "3241e984",
   "metadata": {},
   "source": [
    "Advantage of function can be listed as:\n",
    "    Advantages:- 1.Reusability,\n",
    "                 2. Eliminates redundancy or duplication,\n",
    "                 3.Reduces size or length of a program,\n",
    "                 4 .maintains modular structure of a program"
   ]
  },
  {
   "cell_type": "markdown",
   "id": "13dfcb8e",
   "metadata": {},
   "source": [
    "# 2. When does the code in a function run; when it's specified or when it's called?"
   ]
  },
  {
   "cell_type": "raw",
   "id": "8323380b",
   "metadata": {},
   "source": [
    "When it is called"
   ]
  },
  {
   "cell_type": "markdown",
   "id": "c79fe7ee",
   "metadata": {},
   "source": [
    "# 3. What statement creates a function?"
   ]
  },
  {
   "cell_type": "raw",
   "id": "da7cd14c",
   "metadata": {},
   "source": [
    "def is the keyword to create a function"
   ]
  },
  {
   "cell_type": "code",
   "execution_count": 1,
   "id": "af37207a",
   "metadata": {},
   "outputs": [],
   "source": [
    "#example\n",
    "def sum(a,b):\n",
    "    return a+b"
   ]
  },
  {
   "cell_type": "markdown",
   "id": "a7167595",
   "metadata": {},
   "source": [
    "# 4. What is the difference between a function and a function call?"
   ]
  },
  {
   "cell_type": "code",
   "execution_count": null,
   "id": "aa4ae10a",
   "metadata": {},
   "outputs": [],
   "source": [
    "\n",
    "A function is a block of code that does a particular operation and returns a result. \n",
    "It usually accepts inputs as\n",
    "parameters and returns a result. \n",
    "The parameters are not mandatory. A function call is the code used to pass control to a function."
   ]
  },
  {
   "cell_type": "markdown",
   "id": "a6516bc5",
   "metadata": {},
   "source": [
    "# 5. How many global scopes are there in a Python program? How many local scopes?"
   ]
  },
  {
   "cell_type": "code",
   "execution_count": null,
   "id": "989f44e5",
   "metadata": {},
   "outputs": [],
   "source": [
    "One global scope.\n"
   ]
  },
  {
   "cell_type": "markdown",
   "id": "4210a4aa",
   "metadata": {},
   "source": [
    "# 6. What happens to variables in a local scope when the function call returns?"
   ]
  },
  {
   "cell_type": "raw",
   "id": "c2557bad",
   "metadata": {},
   "source": [
    "local variable are destroyed when function call returns."
   ]
  },
  {
   "cell_type": "markdown",
   "id": "750bae8e",
   "metadata": {},
   "source": [
    "# 7. What is the concept of a return value? Is it possible to have a return value in an expression?"
   ]
  },
  {
   "cell_type": "raw",
   "id": "634d56a2",
   "metadata": {},
   "source": [
    "The return statement returns the value to the calling entity.\n",
    "Yes it is possible to return as expression."
   ]
  },
  {
   "cell_type": "markdown",
   "id": "29a8d6dc",
   "metadata": {},
   "source": [
    "# 8. If a function does not have a return statement, what is the return value of a call to that function?"
   ]
  },
  {
   "cell_type": "raw",
   "id": "df7916c4",
   "metadata": {},
   "source": [
    "It won't return anything. It will be null."
   ]
  },
  {
   "cell_type": "markdown",
   "id": "996ab01a",
   "metadata": {},
   "source": [
    "# 9. How do you make a function variable refer to the global variable?"
   ]
  },
  {
   "cell_type": "raw",
   "id": "75180e40",
   "metadata": {},
   "source": [
    "Any variable outside of function is known as global variable.\n",
    "To create global variable inside the function, we can use using keyword `global` while declaring."
   ]
  },
  {
   "cell_type": "markdown",
   "id": "a2dc7d9c",
   "metadata": {},
   "source": [
    "# 10. What is the data type of None?"
   ]
  },
  {
   "cell_type": "raw",
   "id": "1178e48d",
   "metadata": {},
   "source": [
    "Null variable or object"
   ]
  },
  {
   "cell_type": "markdown",
   "id": "67abc8ce",
   "metadata": {},
   "source": [
    "# 11. What does the sentence import areallyourpetsnamederic do?"
   ]
  },
  {
   "cell_type": "raw",
   "id": "e192542c",
   "metadata": {},
   "source": [
    "it import areallyourpetsnamederic module. It can be a library or module. It increase the usability of code."
   ]
  },
  {
   "cell_type": "markdown",
   "id": "13d4a78b",
   "metadata": {},
   "source": [
    "# 12. If you had a bacon() feature in a spam module, what would you call it after importing spam?"
   ]
  },
  {
   "cell_type": "raw",
   "id": "671f3334",
   "metadata": {},
   "source": [
    "spam.bacon()"
   ]
  },
  {
   "cell_type": "markdown",
   "id": "42b9093c",
   "metadata": {},
   "source": [
    "# 13. What can you do to save a programme from crashing if it encounters an error?"
   ]
  },
  {
   "cell_type": "raw",
   "id": "5c6aff46",
   "metadata": {},
   "source": [
    "we can do exception handling to save programme from crashing."
   ]
  },
  {
   "cell_type": "markdown",
   "id": "dccdf107",
   "metadata": {},
   "source": [
    "# 14. What is the purpose of the try clause? What is the purpose of the except clause?"
   ]
  },
  {
   "cell_type": "raw",
   "id": "dbfc94f0",
   "metadata": {},
   "source": [
    "The try block lets you test a block of code for errors. The except block lets you handle the error.\n"
   ]
  },
  {
   "cell_type": "code",
   "execution_count": null,
   "id": "397b3227",
   "metadata": {},
   "outputs": [],
   "source": []
  }
 ],
 "metadata": {
  "kernelspec": {
   "display_name": "Python 3",
   "language": "python",
   "name": "python3"
  },
  "language_info": {
   "codemirror_mode": {
    "name": "ipython",
    "version": 3
   },
   "file_extension": ".py",
   "mimetype": "text/x-python",
   "name": "python",
   "nbconvert_exporter": "python",
   "pygments_lexer": "ipython3",
   "version": "3.9.12"
  }
 },
 "nbformat": 4,
 "nbformat_minor": 5
}
