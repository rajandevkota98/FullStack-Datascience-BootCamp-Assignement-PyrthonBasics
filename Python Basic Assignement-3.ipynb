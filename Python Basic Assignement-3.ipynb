{
 "cells": [
  {
   "cell_type": "markdown",
   "id": "6b41f4d2",
   "metadata": {},
   "source": [
    "# 1. Why are functions advantageous to have in your programs?"
   ]
  },
  {
   "cell_type": "markdown",
   "id": "946e06ef",
   "metadata": {},
   "source": [
    "Advantage of function can be listed as:\n",
    "\n",
    "    Advantages:- 1.Reusability,\n",
    "    \n",
    "                 2. Eliminates redundancy or duplication,\n",
    "                 \n",
    "                 3.Reduces size or length of a program,\n",
    "                 \n",
    "                 4 .maintains modular structure of a program"
   ]
  },
  {
   "cell_type": "markdown",
   "id": "efb7891c",
   "metadata": {},
   "source": [
    "# 2. When does the code in a function run; when it's specified or when it's called?"
   ]
  },
  {
   "cell_type": "markdown",
   "id": "183da14e",
   "metadata": {},
   "source": [
    "When it is called"
   ]
  },
  {
   "cell_type": "markdown",
   "id": "06b38757",
   "metadata": {},
   "source": [
    "# 3. What statement creates a function?"
   ]
  },
  {
   "cell_type": "markdown",
   "id": "1d56dd92",
   "metadata": {},
   "source": [
    "def is the keyword to create a function"
   ]
  },
  {
   "cell_type": "code",
   "execution_count": 3,
   "id": "9d6f9249",
   "metadata": {},
   "outputs": [],
   "source": [
    "#example\n",
    "def sum(a,b):\n",
    "    return a+b"
   ]
  },
  {
   "cell_type": "markdown",
   "id": "a80c5195",
   "metadata": {},
   "source": [
    "# 4. What is the difference between a function and a function call?"
   ]
  },
  {
   "cell_type": "markdown",
   "id": "70da1e5d",
   "metadata": {},
   "source": [
    "\n",
    "A function is a block of code that does a particular operation and returns a result. \n",
    "It usually accepts inputs as\n",
    "parameters and returns a result. \n",
    "The parameters are not mandatory. A function call is the code used to pass control to a function."
   ]
  },
  {
   "cell_type": "markdown",
   "id": "18f26275",
   "metadata": {},
   "source": [
    "# 5. How many global scopes are there in a Python program? How many local scopes?"
   ]
  },
  {
   "cell_type": "markdown",
   "id": "10e1cb58",
   "metadata": {},
   "source": [
    "One global scope.\n",
    "Many local scope"
   ]
  },
  {
   "cell_type": "markdown",
   "id": "fb27260d",
   "metadata": {},
   "source": [
    "# 6. What happens to variables in a local scope when the function call returns?"
   ]
  },
  {
   "cell_type": "markdown",
   "id": "d4e26a95",
   "metadata": {},
   "source": [
    "local variable are destroyed when function call returns."
   ]
  },
  {
   "cell_type": "markdown",
   "id": "d2637d99",
   "metadata": {},
   "source": [
    "# 7. What is the concept of a return value? Is it possible to have a return value in an expression?"
   ]
  },
  {
   "cell_type": "markdown",
   "id": "81084487",
   "metadata": {},
   "source": [
    "The return statement returns the value to the calling entity.\n",
    "Yes it is possible to return as expression."
   ]
  },
  {
   "cell_type": "markdown",
   "id": "9740f821",
   "metadata": {},
   "source": [
    "# 8. If a function does not have a return statement, what is the return value of a call to that function?"
   ]
  },
  {
   "cell_type": "markdown",
   "id": "3be6c5c0",
   "metadata": {},
   "source": [
    "It won't return anything. It will be null."
   ]
  },
  {
   "cell_type": "markdown",
   "id": "00e43122",
   "metadata": {},
   "source": [
    "# 9. How do you make a function variable refer to the global variable?"
   ]
  },
  {
   "cell_type": "markdown",
   "id": "0542f598",
   "metadata": {},
   "source": [
    "Any variable outside of function is known as global variable.\n",
    "To create global variable inside the function, we can use using keyword `global` while declaring."
   ]
  },
  {
   "cell_type": "markdown",
   "id": "f2b4c6a1",
   "metadata": {},
   "source": [
    "# 10. What is the data type of None?"
   ]
  },
  {
   "cell_type": "markdown",
   "id": "835026fc",
   "metadata": {},
   "source": [
    "Null variable or object"
   ]
  },
  {
   "cell_type": "markdown",
   "id": "eddea664",
   "metadata": {},
   "source": [
    "# 11. What does the sentence import areallyourpetsnamederic do?"
   ]
  },
  {
   "cell_type": "markdown",
   "id": "515961bb",
   "metadata": {},
   "source": [
    "it import areallyourpetsnamederic module. It can be a library or module. It increase the usability of code."
   ]
  },
  {
   "cell_type": "markdown",
   "id": "d3fd5742",
   "metadata": {},
   "source": [
    "# 12. If you had a bacon() feature in a spam module, what would you call it after importing spam?"
   ]
  },
  {
   "cell_type": "markdown",
   "id": "02f841d2",
   "metadata": {},
   "source": [
    "spam.bacon()"
   ]
  },
  {
   "cell_type": "markdown",
   "id": "af8fbb68",
   "metadata": {},
   "source": [
    "# 13. What can you do to save a programme from crashing if it encounters an error?"
   ]
  },
  {
   "cell_type": "markdown",
   "id": "f532874f",
   "metadata": {},
   "source": [
    "we can do exception handling to save programme from crashing."
   ]
  },
  {
   "cell_type": "markdown",
   "id": "a2b62d86",
   "metadata": {},
   "source": [
    "# 14. What is the purpose of the try clause? What is the purpose of the except clause?"
   ]
  },
  {
   "cell_type": "markdown",
   "id": "76b9b23c",
   "metadata": {},
   "source": [
    "The try block lets you test a block of code for errors. The except block lets you handle the error.\n"
   ]
  }
 ],
 "metadata": {
  "kernelspec": {
   "display_name": "Python 3",
   "language": "python",
   "name": "python3"
  },
  "language_info": {
   "codemirror_mode": {
    "name": "ipython",
    "version": 3
   },
   "file_extension": ".py",
   "mimetype": "text/x-python",
   "name": "python",
   "nbconvert_exporter": "python",
   "pygments_lexer": "ipython3",
   "version": "3.9.12"
  }
 },
 "nbformat": 4,
 "nbformat_minor": 5
}
