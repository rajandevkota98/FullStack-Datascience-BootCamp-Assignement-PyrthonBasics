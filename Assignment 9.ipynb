{
 "cells": [
  {
   "cell_type": "markdown",
   "id": "45b870c7",
   "metadata": {},
   "source": [
    "# 1. To what does a relative path refer?"
   ]
  },
  {
   "cell_type": "markdown",
   "id": "dbdc5b73",
   "metadata": {},
   "source": [
    "A relative path refers to the file or directory path that is relative to the current working directory."
   ]
  },
  {
   "cell_type": "markdown",
   "id": "3d2d0067",
   "metadata": {},
   "source": [
    "# 2. What does an absolute path start with your operating system?"
   ]
  },
  {
   "cell_type": "markdown",
   "id": "21607e52",
   "metadata": {},
   "source": [
    "Since I am using Ubuntu.\n",
    "It starts with root directory which is denoted by '/'."
   ]
  },
  {
   "cell_type": "markdown",
   "id": "beea2d5b",
   "metadata": {},
   "source": [
    "# 3. What do the functions os.getcwd() and os.chdir() do?"
   ]
  },
  {
   "cell_type": "code",
   "execution_count": 3,
   "id": "6b52619a",
   "metadata": {},
   "outputs": [],
   "source": [
    "import os"
   ]
  },
  {
   "cell_type": "code",
   "execution_count": 2,
   "id": "48190927",
   "metadata": {},
   "outputs": [
    {
     "data": {
      "text/plain": [
       "'/home/rajan/assignment'"
      ]
     },
     "execution_count": 2,
     "metadata": {},
     "output_type": "execute_result"
    }
   ],
   "source": [
    "os.getcwd()"
   ]
  },
  {
   "cell_type": "markdown",
   "id": "ea433e5b",
   "metadata": {},
   "source": [
    "it gives the current working directory."
   ]
  },
  {
   "cell_type": "markdown",
   "id": "0585bdf4",
   "metadata": {},
   "source": [
    "os.chdir(path) --> It is used to change the directory."
   ]
  },
  {
   "cell_type": "markdown",
   "id": "aec0f01e",
   "metadata": {},
   "source": [
    "# 4. What are the . and .. folders?"
   ]
  },
  {
   "cell_type": "markdown",
   "id": "efc888c3",
   "metadata": {},
   "source": [
    ". ----> It refers to the current working directory.\n",
    "\n",
    ".. ----> it refers to the parent directory.\n",
    "\n",
    "example: cd .. --> it will go the one step parent directory."
   ]
  },
  {
   "cell_type": "markdown",
   "id": "39609fd6",
   "metadata": {},
   "source": [
    "# 5. In C:\\bacon\\eggs\\spam.txt, which part is the dir name, and which part is the base name?"
   ]
  },
  {
   "cell_type": "markdown",
   "id": "9db2703d",
   "metadata": {},
   "source": [
    "In the file path C:\\bacon\\eggs\\spam.txt, the directory name is C:\\bacon\\eggs, and the base name is spam.txt."
   ]
  },
  {
   "cell_type": "markdown",
   "id": "86d3dbc6",
   "metadata": {},
   "source": [
    "# 6. What are the three “mode” arguments that can be passed to the open() function?"
   ]
  },
  {
   "cell_type": "markdown",
   "id": "88f3c933",
   "metadata": {},
   "source": [
    "Three mode that are available in open function are:\n",
    "    \n",
    "    'r' ---> Read mode. Opens the files for reading mode. It is a default mode.\n",
    "\n",
    "    'w' ---> Write mode. opens the file for writing mode. Overwriting the file if it is alreadt exist or create a new file if it doesn't exist.\n",
    "    \n",
    "    'a' ----> append mode, opens the file for writing but appends new data at the end rather than overwriting the existing file."
   ]
  },
  {
   "cell_type": "markdown",
   "id": "2161d1d5",
   "metadata": {},
   "source": [
    "# 7. What happens if an existing file is opened in write mode?"
   ]
  },
  {
   "cell_type": "markdown",
   "id": "53ab5838",
   "metadata": {},
   "source": [
    "It adds new data at the end rather than overwriting the existing file."
   ]
  },
  {
   "cell_type": "markdown",
   "id": "598ce53a",
   "metadata": {},
   "source": [
    "# 8. How do you tell the difference between read() and readlines()?"
   ]
  },
  {
   "cell_type": "markdown",
   "id": "a13c83ac",
   "metadata": {},
   "source": [
    "read(): This method reads the entire contents of the file as a single string, starting from the current file position. It takes an optional argument that specifies the number of bytes to read. If no argument is passed, it reads the entire file. The string that is returned includes any newline characters that are present in the file.\n",
    "\n",
    "readlines(): This method reads the entire contents of the file and returns a list of strings, where each string represents a single line in the file. The list is created by splitting the file contents at each newline character (\\n). This method does not take any arguments."
   ]
  },
  {
   "cell_type": "markdown",
   "id": "4e7cbd6f",
   "metadata": {},
   "source": [
    "# 9. What data structure does a shelf value resemble?"
   ]
  },
  {
   "cell_type": "markdown",
   "id": "5c50a0d4",
   "metadata": {},
   "source": [
    "In Python, the shelf module provides a way to store and retrieve data from a persistent dictionary-like object. This object is similar to a dictionary in that it maps keys to values, but unlike a regular dictionary, it is stored as a file on disk, which allows it to persist even after the program has finished running."
   ]
  }
 ],
 "metadata": {
  "kernelspec": {
   "display_name": "Python 3 (ipykernel)",
   "language": "python",
   "name": "python3"
  },
  "language_info": {
   "codemirror_mode": {
    "name": "ipython",
    "version": 3
   },
   "file_extension": ".py",
   "mimetype": "text/x-python",
   "name": "python",
   "nbconvert_exporter": "python",
   "pygments_lexer": "ipython3",
   "version": "3.10.9"
  }
 },
 "nbformat": 4,
 "nbformat_minor": 5
}
