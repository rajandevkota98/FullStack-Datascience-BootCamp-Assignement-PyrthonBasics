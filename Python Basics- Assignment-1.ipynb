{
 "cells": [
  {
   "cell_type": "markdown",
   "id": "6211efdd",
   "metadata": {},
   "source": [
    "# 1. In the below elements which of them are values or an expression? eg:- values can be integer or string and expressions will be mathematical operators.\n"
   ]
  },
  {
   "cell_type": "markdown",
   "id": "a4af65a9",
   "metadata": {},
   "source": [
    "Ans:\n",
    "    1. *  ==>  expressions\n",
    "    \n",
    "    2. 'hello' ==> values\n",
    "    \n",
    "    3. -87.8 ==> values\n",
    "    4. - ==> expressions\n",
    "    \n",
    "    5. / ==> expressions\n",
    "    6. + ==> expression\n",
    "    \n",
    "    7. 6 ==> values"
   ]
  },
  {
   "cell_type": "markdown",
   "id": "580a30b9",
   "metadata": {},
   "source": [
    "# 2. What is the difference between string and variable?"
   ]
  },
  {
   "cell_type": "markdown",
   "id": "94f81230",
   "metadata": {},
   "source": [
    "Ans: String is a datatype which is  ordered seqeuences of characters. It can be made up of simply alphabets or from numbers or can be combinations of them as well. It should be enclosed either by double quotation or  by single quotation but they should be matched. for multiline strings we use triple double quotation symbol.\n",
    "Example of strings:\n",
    "    "
   ]
  },
  {
   "cell_type": "code",
   "execution_count": 10,
   "id": "128b9be5",
   "metadata": {},
   "outputs": [],
   "source": [
    "first = \"hello\"\n",
    "second = 'hello world'\n",
    "multi_line_string = \"\"\"\"I was working as a Data Analyst but I wanted to \n",
    "gain a deeper insight into the Al field. I was astonished by the course curriculum and was impressed by the dedication of our mentor Sudhanshu's teaching paradigm. After completion, I was able to make the transition into a data science job in Xceedance Cousulting. \"\"\""
   ]
  },
  {
   "cell_type": "code",
   "execution_count": 11,
   "id": "24849b64",
   "metadata": {},
   "outputs": [
    {
     "data": {
      "text/plain": [
       "'hello'"
      ]
     },
     "execution_count": 11,
     "metadata": {},
     "output_type": "execute_result"
    }
   ],
   "source": [
    "first"
   ]
  },
  {
   "cell_type": "code",
   "execution_count": 12,
   "id": "a0eba83a",
   "metadata": {},
   "outputs": [
    {
     "data": {
      "text/plain": [
       "'\"I was working as a Data Analyst but I wanted to \\ngain a deeper insight into the Al field. I was astonished by the course curriculum and was impressed by the dedication of our mentor Sudhanshu\\'s teaching paradigm. After completion, I was able to make the transition into a data science job in Xceedance Cousulting. '"
      ]
     },
     "execution_count": 12,
     "metadata": {},
     "output_type": "execute_result"
    }
   ],
   "source": [
    "multi_line_string"
   ]
  },
  {
   "cell_type": "markdown",
   "id": "afe511cf",
   "metadata": {},
   "source": [
    "A variable is a symbolic name, that holds the values.\n",
    "A variable can hold different data types.  first, second,multi_line_sting are example of string varibales."
   ]
  },
  {
   "cell_type": "code",
   "execution_count": 13,
   "id": "b50e6f43",
   "metadata": {},
   "outputs": [],
   "source": [
    "string_varibale = \"hello ineuron\"\n",
    "int_variable = 2022\n",
    "float_variable = 2020.02"
   ]
  },
  {
   "cell_type": "markdown",
   "id": "10180501",
   "metadata": {},
   "source": [
    "# 3. Describe three different data types."
   ]
  },
  {
   "cell_type": "markdown",
   "id": "84e21fa2",
   "metadata": {},
   "source": [
    "\n",
    "1. String:\n",
    "    string is a datatypes which are sequences of character, and are used to hold the text values. \n",
    "2. Boolean;\n",
    "    Boolean datatypes stores true and false values. True represent 1 and false represent 0.\n",
    "3. interger:\n",
    "    integer holds the numerical value without any fractional component"
   ]
  },
  {
   "cell_type": "markdown",
   "id": "1f20bf01",
   "metadata": {},
   "source": [
    "# 4. What is an expression made up of? What do all expressions do?"
   ]
  },
  {
   "cell_type": "markdown",
   "id": "50369194",
   "metadata": {},
   "source": [
    "An expression is a made up of variables, operators, and numbers, which evaluates to a single value."
   ]
  },
  {
   "cell_type": "markdown",
   "id": "33ddea55",
   "metadata": {},
   "source": [
    "It evaluates to a single value."
   ]
  },
  {
   "cell_type": "markdown",
   "id": "91a5b7f8",
   "metadata": {},
   "source": [
    "# 5. This assignment statements, like spam = 10. What is the difference between an expression and a statement?"
   ]
  },
  {
   "cell_type": "markdown",
   "id": "1382d717",
   "metadata": {},
   "source": [
    "The assignment statement are used to assign the value to the variable. Here, variable spam is assigned valued 10.\n"
   ]
  },
  {
   "cell_type": "markdown",
   "id": "02973a78",
   "metadata": {},
   "source": [
    "\n",
    "\n",
    "An expression is a made up of variables, operators, and numbers, which evaluates to a single value.\n"
   ]
  },
  {
   "cell_type": "markdown",
   "id": "f449d565",
   "metadata": {},
   "source": [
    "#    # 6. After running the following code, what does the variable bacon contain? bacon = 22 bacon + 1"
   ]
  },
  {
   "cell_type": "code",
   "execution_count": 1,
   "id": "d0657aff",
   "metadata": {},
   "outputs": [
    {
     "data": {
      "text/plain": [
       "23"
      ]
     },
     "execution_count": 1,
     "metadata": {},
     "output_type": "execute_result"
    }
   ],
   "source": [
    "bacon  = 22\n",
    "bacon +1"
   ]
  },
  {
   "cell_type": "code",
   "execution_count": 2,
   "id": "e8e89d3b",
   "metadata": {},
   "outputs": [
    {
     "data": {
      "text/plain": [
       "22"
      ]
     },
     "execution_count": 2,
     "metadata": {},
     "output_type": "execute_result"
    }
   ],
   "source": [
    "bacon"
   ]
  },
  {
   "cell_type": "markdown",
   "id": "bc4160e0",
   "metadata": {},
   "source": [
    "Since we haven't assigned +1 to bacon variable, the value of bacon is still 22."
   ]
  },
  {
   "cell_type": "markdown",
   "id": "53104185",
   "metadata": {},
   "source": [
    "# 7. What should the values of the following two terms be?\n",
    "&#39;spam&#39; + &#39;spamspam&#39;\n",
    "\n",
    "&#39;spam&#39; * 3"
   ]
  },
  {
   "cell_type": "code",
   "execution_count": 3,
   "id": "d5c8f850",
   "metadata": {},
   "outputs": [
    {
     "data": {
      "text/plain": [
       "'spamspamspam'"
      ]
     },
     "execution_count": 3,
     "metadata": {},
     "output_type": "execute_result"
    }
   ],
   "source": [
    "'spam' + 'spamspam'"
   ]
  },
  {
   "cell_type": "code",
   "execution_count": 4,
   "id": "58ff573d",
   "metadata": {},
   "outputs": [
    {
     "data": {
      "text/plain": [
       "'spamspamspam'"
      ]
     },
     "execution_count": 4,
     "metadata": {},
     "output_type": "execute_result"
    }
   ],
   "source": [
    "'spam' * 3"
   ]
  },
  {
   "cell_type": "markdown",
   "id": "4f6ebf5c",
   "metadata": {},
   "source": [
    "The result is same, as in 1. we have done concatenation of one 'spam' and another two spam string 'spamspam' so result is 'spamspamspam'. In second we did string multiplication, which generate tripe of 'spam' which is 'spamspamspam'"
   ]
  },
  {
   "cell_type": "markdown",
   "id": "90d26360",
   "metadata": {},
   "source": [
    "# 8. Why is eggs a valid variable name while 100 is invalid?"
   ]
  },
  {
   "cell_type": "code",
   "execution_count": 5,
   "id": "ad833988",
   "metadata": {},
   "outputs": [],
   "source": [
    "eggs = 10"
   ]
  },
  {
   "cell_type": "code",
   "execution_count": 6,
   "id": "acf00505",
   "metadata": {},
   "outputs": [
    {
     "ename": "SyntaxError",
     "evalue": "cannot assign to literal (<ipython-input-6-ad378dbee9de>, line 1)",
     "output_type": "error",
     "traceback": [
      "\u001b[0;36m  File \u001b[0;32m\"<ipython-input-6-ad378dbee9de>\"\u001b[0;36m, line \u001b[0;32m1\u001b[0m\n\u001b[0;31m    100 = 'invalid example'\u001b[0m\n\u001b[0m    ^\u001b[0m\n\u001b[0;31mSyntaxError\u001b[0m\u001b[0;31m:\u001b[0m cannot assign to literal\n"
     ]
    }
   ],
   "source": [
    "100 = 'invalid example'"
   ]
  },
  {
   "cell_type": "markdown",
   "id": "cd3bf62f",
   "metadata": {},
   "source": [
    "We can't name the variable which starts with numbers, so variable name 100 is invalid."
   ]
  },
  {
   "cell_type": "markdown",
   "id": "45b90903",
   "metadata": {},
   "source": [
    "# 9. What three functions can be used to get the integer, floating-point number, or string version of a value?"
   ]
  },
  {
   "cell_type": "markdown",
   "id": "d71d7764",
   "metadata": {},
   "source": [
    "for interger, we can use int(), for float, we can use float(), for string, we can use str()"
   ]
  },
  {
   "cell_type": "markdown",
   "id": "01c57c64",
   "metadata": {},
   "source": [
    "# 10. Why does this expression cause an error? How can you fix it? &#39;I have eaten &#39; + 99 + &#39; burritos.&#39;"
   ]
  },
  {
   "cell_type": "markdown",
   "id": "9b4f9342",
   "metadata": {},
   "source": [
    "We can't perform string concatenation operation with interger."
   ]
  },
  {
   "cell_type": "markdown",
   "id": "4db17b51",
   "metadata": {},
   "source": [
    "We can fix this by typecasting, integer to string."
   ]
  },
  {
   "cell_type": "code",
   "execution_count": 10,
   "id": "1a195801",
   "metadata": {},
   "outputs": [
    {
     "ename": "TypeError",
     "evalue": "can only concatenate str (not \"int\") to str",
     "output_type": "error",
     "traceback": [
      "\u001b[0;31m---------------------------------------------------------------------------\u001b[0m",
      "\u001b[0;31mTypeError\u001b[0m                                 Traceback (most recent call last)",
      "\u001b[0;32m<ipython-input-10-d24137131a5c>\u001b[0m in \u001b[0;36m<module>\u001b[0;34m\u001b[0m\n\u001b[0;32m----> 1\u001b[0;31m \u001b[0;34m'I have eaten '\u001b[0m \u001b[0;34m+\u001b[0m \u001b[0;36m99\u001b[0m \u001b[0;34m+\u001b[0m \u001b[0;34m' burritos.'\u001b[0m\u001b[0;34m\u001b[0m\u001b[0;34m\u001b[0m\u001b[0m\n\u001b[0m",
      "\u001b[0;31mTypeError\u001b[0m: can only concatenate str (not \"int\") to str"
     ]
    }
   ],
   "source": [
    "'I have eaten ' + 99 + ' burritos.'"
   ]
  },
  {
   "cell_type": "code",
   "execution_count": 11,
   "id": "e5002409",
   "metadata": {},
   "outputs": [
    {
     "data": {
      "text/plain": [
       "'I have eaten 99 burritos.'"
      ]
     },
     "execution_count": 11,
     "metadata": {},
     "output_type": "execute_result"
    }
   ],
   "source": [
    "'I have eaten ' + str(99) + ' burritos.'"
   ]
  },
  {
   "cell_type": "code",
   "execution_count": null,
   "id": "4c2ac2d2",
   "metadata": {},
   "outputs": [],
   "source": []
  }
 ],
 "metadata": {
  "kernelspec": {
   "display_name": "Python 3",
   "language": "python",
   "name": "python3"
  },
  "language_info": {
   "codemirror_mode": {
    "name": "ipython",
    "version": 3
   },
   "file_extension": ".py",
   "mimetype": "text/x-python",
   "name": "python",
   "nbconvert_exporter": "python",
   "pygments_lexer": "ipython3",
   "version": "3.8.10"
  }
 },
 "nbformat": 4,
 "nbformat_minor": 5
}
