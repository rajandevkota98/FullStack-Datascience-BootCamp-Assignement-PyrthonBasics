{
 "cells": [
  {
   "cell_type": "markdown",
   "id": "19605a34",
   "metadata": {},
   "source": [
    "# 1. Create an assert statement that throws an AssertionError if the variable spam is a negative integer."
   ]
  },
  {
   "cell_type": "code",
   "execution_count": 6,
   "id": "d2976471",
   "metadata": {},
   "outputs": [
    {
     "ename": "AssertionError",
     "evalue": "spam must be a non-negative integer",
     "output_type": "error",
     "traceback": [
      "\u001b[0;31m---------------------------------------------------------------------------\u001b[0m",
      "\u001b[0;31mAssertionError\u001b[0m                            Traceback (most recent call last)",
      "Cell \u001b[0;32mIn[6], line 3\u001b[0m\n\u001b[1;32m      1\u001b[0m spam \u001b[38;5;241m=\u001b[39m \u001b[38;5;241m-\u001b[39m\u001b[38;5;241m1\u001b[39m\n\u001b[1;32m      2\u001b[0m \u001b[38;5;28;01mif\u001b[39;00m spam \u001b[38;5;241m<\u001b[39m \u001b[38;5;241m0\u001b[39m:\n\u001b[0;32m----> 3\u001b[0m     \u001b[38;5;28;01mraise\u001b[39;00m \u001b[38;5;167;01mAssertionError\u001b[39;00m(\u001b[38;5;124m\"\u001b[39m\u001b[38;5;124mspam must be a non-negative integer\u001b[39m\u001b[38;5;124m\"\u001b[39m)\n",
      "\u001b[0;31mAssertionError\u001b[0m: spam must be a non-negative integer"
     ]
    }
   ],
   "source": [
    "spam = -1\n",
    "if spam < 0:\n",
    "    raise AssertionError(\"spam must be a non-negative integer\")\n"
   ]
  },
  {
   "cell_type": "markdown",
   "id": "fa82ccf6",
   "metadata": {},
   "source": [
    "# 2. Write an assert statement that triggers an AssertionError if the variables eggs and bacon contain\n",
    "# strings that are the same as each other, even if their cases are different (that is, &#39;hello&#39; and &#39;hello&#39; are\n",
    "# considered the same, and &#39;goodbye&#39; and &#39;GOODbye&#39; are also considered the same)."
   ]
  },
  {
   "cell_type": "code",
   "execution_count": 11,
   "id": "fbfd891f",
   "metadata": {},
   "outputs": [],
   "source": [
    "str1 = 'Hello'\n",
    "str2 = 'hello'"
   ]
  },
  {
   "cell_type": "code",
   "execution_count": 17,
   "id": "631e0866",
   "metadata": {},
   "outputs": [
    {
     "ename": "AssertionError",
     "evalue": "They are same",
     "output_type": "error",
     "traceback": [
      "\u001b[0;31m---------------------------------------------------------------------------\u001b[0m",
      "\u001b[0;31mAssertionError\u001b[0m                            Traceback (most recent call last)",
      "Cell \u001b[0;32mIn[17], line 2\u001b[0m\n\u001b[1;32m      1\u001b[0m \u001b[38;5;28;01mif\u001b[39;00m str1\u001b[38;5;241m.\u001b[39mlower() \u001b[38;5;241m==\u001b[39m str2\u001b[38;5;241m.\u001b[39mlower():\n\u001b[0;32m----> 2\u001b[0m     \u001b[38;5;28;01mraise\u001b[39;00m \u001b[38;5;167;01mAssertionError\u001b[39;00m(\u001b[38;5;124m'\u001b[39m\u001b[38;5;124mThey are same\u001b[39m\u001b[38;5;124m'\u001b[39m)\n",
      "\u001b[0;31mAssertionError\u001b[0m: They are same"
     ]
    }
   ],
   "source": [
    "if str1.lower() == str2.lower():\n",
    "    raise AssertionError('They are same')\n",
    "    "
   ]
  },
  {
   "cell_type": "markdown",
   "id": "4503e6cd",
   "metadata": {},
   "source": [
    "# 3. Create an assert statement that throws an AssertionError every time."
   ]
  },
  {
   "cell_type": "code",
   "execution_count": 19,
   "id": "1dbf9a13",
   "metadata": {},
   "outputs": [
    {
     "ename": "AssertionError",
     "evalue": "",
     "output_type": "error",
     "traceback": [
      "\u001b[0;31m---------------------------------------------------------------------------\u001b[0m",
      "\u001b[0;31mAssertionError\u001b[0m                            Traceback (most recent call last)",
      "Cell \u001b[0;32mIn[19], line 1\u001b[0m\n\u001b[0;32m----> 1\u001b[0m \u001b[38;5;28;01mraise\u001b[39;00m \u001b[38;5;167;01mAssertionError\u001b[39;00m()\n",
      "\u001b[0;31mAssertionError\u001b[0m: "
     ]
    }
   ],
   "source": [
    "raise AssertionError()"
   ]
  },
  {
   "cell_type": "markdown",
   "id": "56056f8b",
   "metadata": {},
   "source": [
    "# 4. What are the two lines that must be present in your software in order to call logging.debug()?"
   ]
  },
  {
   "cell_type": "markdown",
   "id": "b3951855",
   "metadata": {},
   "source": [
    "1. importing logging\n",
    "2. configuring basic config"
   ]
  },
  {
   "cell_type": "markdown",
   "id": "0b322f75",
   "metadata": {},
   "source": [
    "# 5. What are the two lines that your program must have in order to have logging.debug() send a logging message to a file named programLog.txt? -->"
   ]
  },
  {
   "cell_type": "raw",
   "id": "dc9fd160",
   "metadata": {},
   "source": [
    "import logging\n",
    "logging.basicConfig(level=logging.DEBUG, format='%(asctime)s - %(name)s - %(levelname)s - %(message)s', handlers=[logging.FileHandler('programLog.txt')])\n",
    "\n"
   ]
  },
  {
   "cell_type": "markdown",
   "id": "395faaaa",
   "metadata": {},
   "source": [
    "# 6. What are the five levels of logging?"
   ]
  },
  {
   "cell_type": "raw",
   "id": "ebdd594a",
   "metadata": {},
   "source": [
    "1. DEBUG : for debugging purpose\n",
    "2. INFO  : for general information purpose\n",
    "3. WARNING : for unexpected problem\n",
    "4.ERROR : when program fail to operate normally\n",
    "5. CRITICAL : most severe level of logging, indicating the critical failure"
   ]
  },
  {
   "cell_type": "markdown",
   "id": "758f013c",
   "metadata": {},
   "source": [
    "# 7. What line of code would you add to your software to disable all logging messages?"
   ]
  },
  {
   "cell_type": "code",
   "execution_count": 23,
   "id": "b6af3a27",
   "metadata": {},
   "outputs": [],
   "source": [
    "logging.disable(logging.CRITICAL)\n"
   ]
  },
  {
   "cell_type": "markdown",
   "id": "cea60ba1",
   "metadata": {},
   "source": [
    "# 8.Why is using logging messages better than using print() to display the same message?"
   ]
  },
  {
   "cell_type": "raw",
   "id": "adc76786",
   "metadata": {},
   "source": [
    "Using logging is better than using print() because it provides more flexibility, granularity, standardization, and performance. It allows you to easily change the output destination, control the log message severity, provide standardized messages, and potentially improve performance when logging to non-console outputs"
   ]
  },
  {
   "cell_type": "markdown",
   "id": "88689858",
   "metadata": {},
   "source": [
    "# 9. What are the differences between the Step Over, Step In, and Step Out buttons in the debugger?"
   ]
  },
  {
   "cell_type": "raw",
   "id": "46ab117d",
   "metadata": {},
   "source": [
    "Step Over : It is used to execute the current line and move to the next line.\n",
    "    \n",
    "Step In :  is used to step into the current line of code and execute the first statement of the code at the current line\n",
    "    \n",
    "    \n",
    "Step Out: the Step Out button executes the remaining statements in the current function and returns to the calling code."
   ]
  },
  {
   "cell_type": "markdown",
   "id": "d94ed490",
   "metadata": {},
   "source": [
    "# 10.After you click Continue, when will the debugger stop ?"
   ]
  },
  {
   "cell_type": "markdown",
   "id": "4a976edf",
   "metadata": {},
   "source": [
    "After clicking the continue bottton it will be stop when it reach to break point, or to expection or to end of the program."
   ]
  },
  {
   "cell_type": "markdown",
   "id": "f02306ec",
   "metadata": {},
   "source": [
    "# 11. What is the concept of a breakpoint?"
   ]
  },
  {
   "cell_type": "raw",
   "id": "0a994d69",
   "metadata": {},
   "source": [
    "In software development, a breakpoint is a point in the code where the execution of a program can be paused or interrupted during debugging. A breakpoint is typically set by the developer to allow them to examine the state of the program at a specific point in time, to check if the program is executing as expected or to locate the source of an error."
   ]
  }
 ],
 "metadata": {
  "kernelspec": {
   "display_name": "Python 3 (ipykernel)",
   "language": "python",
   "name": "python3"
  },
  "language_info": {
   "codemirror_mode": {
    "name": "ipython",
    "version": 3
   },
   "file_extension": ".py",
   "mimetype": "text/x-python",
   "name": "python",
   "nbconvert_exporter": "python",
   "pygments_lexer": "ipython3",
   "version": "3.10.9"
  }
 },
 "nbformat": 4,
 "nbformat_minor": 5
}
