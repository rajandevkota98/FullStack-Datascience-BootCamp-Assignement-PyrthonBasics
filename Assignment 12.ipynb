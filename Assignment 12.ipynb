{
 "cells": [
  {
   "cell_type": "markdown",
   "id": "fce40d84",
   "metadata": {},
   "source": [
    "# 1. In what modes should the PdfFileReader() and PdfFileWriter() File objects will be opened??"
   ]
  },
  {
   "cell_type": "raw",
   "id": "24deed76",
   "metadata": {},
   "source": [
    "When creating a PdfFileReader object, you should open the file object in binary mode using the 'rb' flag."
   ]
  },
  {
   "cell_type": "raw",
   "id": "db0684cf",
   "metadata": {},
   "source": [
    "Similarly, when creating a PdfFileWriter object, you should open the file object in binary mode using the 'wb'."
   ]
  },
  {
   "cell_type": "markdown",
   "id": "a0bb1627",
   "metadata": {},
   "source": [
    "## 2. From a PdfFileReader object, how do you get a Page object for page 5?"
   ]
  },
  {
   "cell_type": "raw",
   "id": "e28788f8",
   "metadata": {},
   "source": [
    "from PyPDF2 import PdfFileReader\n",
    "\n",
    "with open('input_file.pdf', 'rb') as file:\n",
    "    pdf_reader = PdfFileReader(file)\n",
    "\n",
    "    page_5 = pdf_reader.getPage(4)\n"
   ]
  },
  {
   "cell_type": "markdown",
   "id": "6431cee6",
   "metadata": {},
   "source": [
    "# 3. What PdfFileReader variable stores the number of pages in the PDF document?"
   ]
  },
  {
   "cell_type": "raw",
   "id": "3f8cfd1f",
   "metadata": {},
   "source": [
    "from PyPDF2 import PdfFileReader\n",
    "\n",
    "with open('input_file.pdf', 'rb') as file:\n",
    "    pdf_reader = PdfFileReader(file)\n",
    "\n",
    "    num_pages = pdf_reader.getNumPages()\n",
    "\n",
    "    print(f'The PDF file contains {num_pages} pages.')\n"
   ]
  },
  {
   "cell_type": "markdown",
   "id": "2fa5ccb3",
   "metadata": {},
   "source": [
    "# 4. If a PdfFileReader object’s PDF is encrypted with the password swordfish, what must you do before you can obtain Page objects from it?"
   ]
  },
  {
   "cell_type": "markdown",
   "id": "191fac51",
   "metadata": {},
   "source": [
    "If a PDF file that you are trying to read using a PdfFileReader object from the PyPDF2 library is encrypted with a password, you need to decrypt it before you can obtain PageObjects from it.\n",
    "\n",
    "To decrypt an encrypted PDF file, you can use the decrypt() method of the PdfFileReader object and pass it the password as a string argument. The decrypt() method returns True if the decryption was successful, or False if the password was incorrect."
   ]
  },
  {
   "cell_type": "markdown",
   "id": "0c1ee56b",
   "metadata": {},
   "source": [
    "# 5. What methods do you use to rotate a page?"
   ]
  },
  {
   "cell_type": "raw",
   "id": "8342ba68",
   "metadata": {},
   "source": [
    "To rotate a page in a PDF document using a PageObject from the PyPDF2 library, you can use the rotateClockwise() or rotateCounterClockwise() methods."
   ]
  },
  {
   "cell_type": "markdown",
   "id": "cbc2d5ec",
   "metadata": {},
   "source": [
    "# 6. What is the difference between a Run object and a Paragraph object?"
   ]
  },
  {
   "cell_type": "raw",
   "id": "f67412a3",
   "metadata": {},
   "source": [
    "A Paragraph object represents an entire paragraph of text, whereas a Run object represents a contiguous run of text within a paragraph."
   ]
  },
  {
   "cell_type": "markdown",
   "id": "b0cc4173",
   "metadata": {},
   "source": [
    "# 7. How do you obtain a list of Paragraph objects for a Document object that’s stored in a variable named doc?"
   ]
  },
  {
   "cell_type": "markdown",
   "id": "5293ed24",
   "metadata": {},
   "source": [
    "To obtain a list of Paragraph objects for a Document object stored in a variable named doc using the python-docx library, you can use the paragraphs attribute of the Document object. The paragraphs attribute returns a list of all the Paragraph objects in the document."
   ]
  },
  {
   "cell_type": "markdown",
   "id": "25965036",
   "metadata": {},
   "source": [
    "# 8. What type of object has bold, underline, italic, strike, and outline variables?"
   ]
  },
  {
   "cell_type": "raw",
   "id": "f4cf23c1",
   "metadata": {},
   "source": [
    "In python-docx library, the Run object represents a contiguous run of text within a paragraph in a Word document. A Run object has various properties that allow you to modify its formatting, including bold, underline, italic, strike, and outline.\n",
    "\n",
    "So, the object that has bold, underline, italic, strike, and outline variables is the Run object. You can access these variables as properties of a Run object and set their values to True or False to apply or remove the formatting. Here's an example code snippet that demonstrates how to apply formatting to a Run object.\n"
   ]
  },
  {
   "cell_type": "markdown",
   "id": "05270dbb",
   "metadata": {},
   "source": [
    "# 9. What is the difference between False, True, and None for the bold variable?"
   ]
  },
  {
   "cell_type": "raw",
   "id": "6cbb9025",
   "metadata": {},
   "source": [
    "In Python, False, True, and None are Boolean values.\n",
    "\n",
    "False and True represent Boolean values for false and true, respectively, while None represents the absence of a value or null."
   ]
  },
  {
   "cell_type": "raw",
   "id": "a358007d",
   "metadata": {},
   "source": [
    "# To create a Document object for a new Word document in Python, you can use the docx library. Here's an example code snippet:\n",
    "from docx import Document\n",
    "\n",
    "# create a new Document object\n",
    "document = Document()\n",
    "\n",
    "# add some content to the document\n",
    "document.add_heading('Document Title', level=1)\n",
    "document.add_paragraph('This is the first paragraph.')\n",
    "\n",
    "# save the document\n",
    "document.save('my_new_document.docx')"
   ]
  },
  {
   "cell_type": "markdown",
   "id": "8be089bc",
   "metadata": {},
   "source": [
    "# 11. How do you add a paragraph with the text &#39;Hello, there!&#39; to a Document object stored in a variable named doc?"
   ]
  },
  {
   "cell_type": "raw",
   "id": "9ecc369c",
   "metadata": {},
   "source": [
    "from docx import Document\n",
    "\n",
    "doc = Document()\n",
    "\n",
    "doc.add_paragraph('Hello, there!')\n",
    "\n",
    "doc.save('my_document.docx')"
   ]
  },
  {
   "cell_type": "markdown",
   "id": "4b056aef",
   "metadata": {},
   "source": [
    "# 12. What integers represent the levels of headings available in Word documents?"
   ]
  },
  {
   "cell_type": "raw",
   "id": "2e1b8248",
   "metadata": {},
   "source": [
    "Level 1: wdHeadingLevel1 or integer value 1\n",
    "Level 2: wdHeadingLevel2 or integer value 2\n",
    "Level 3: wdHeadingLevel3 or integer value 3\n",
    "Level 4: wdHeadingLevel4 or integer value 4\n",
    "Level 5: wdHeadingLevel5 or integer value 5\n",
    "Level 6: wdHeadingLevel6 or integer value 6"
   ]
  }
 ],
 "metadata": {
  "kernelspec": {
   "display_name": "Python 3 (ipykernel)",
   "language": "python",
   "name": "python3"
  },
  "language_info": {
   "codemirror_mode": {
    "name": "ipython",
    "version": 3
   },
   "file_extension": ".py",
   "mimetype": "text/x-python",
   "name": "python",
   "nbconvert_exporter": "python",
   "pygments_lexer": "ipython3",
   "version": "3.10.9"
  }
 },
 "nbformat": 4,
 "nbformat_minor": 5
}
