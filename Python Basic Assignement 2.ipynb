{
 "cells": [
  {
   "cell_type": "markdown",
   "id": "4ef4a684",
   "metadata": {},
   "source": [
    "# 1.What are the two values of the Boolean data type? How do you write them?"
   ]
  },
  {
   "cell_type": "markdown",
   "id": "334e16fb",
   "metadata": {},
   "source": [
    "The two values of boolean data are True and False.\n"
   ]
  },
  {
   "cell_type": "markdown",
   "id": "074aa896",
   "metadata": {},
   "source": [
    "Since python is casesensetive, we use Capitalize form of True and False."
   ]
  },
  {
   "cell_type": "code",
   "execution_count": 1,
   "id": "29b99775",
   "metadata": {},
   "outputs": [],
   "source": [
    "first = True\n",
    "second = False"
   ]
  },
  {
   "cell_type": "markdown",
   "id": "ff474b52",
   "metadata": {},
   "source": [
    "# 2. What are the three different types of Boolean operators?"
   ]
  },
  {
   "cell_type": "markdown",
   "id": "bad9040a",
   "metadata": {},
   "source": [
    "The three types of boolean operator are and, or ,and not. "
   ]
  },
  {
   "cell_type": "markdown",
   "id": "f881208b",
   "metadata": {},
   "source": [
    "# 3. Make a list of each Boolean operator&#39;s truth tables (i.e. every possible combination of Boolean values for the operator and what it evaluate)."
   ]
  },
  {
   "cell_type": "markdown",
   "id": "898df0b9",
   "metadata": {},
   "source": [
    " Table:\n",
    "\n"
   ]
  },
  {
   "cell_type": "markdown",
   "id": "5f439fc6",
   "metadata": {},
   "source": [
    "# or"
   ]
  },
  {
   "cell_type": "code",
   "execution_count": 8,
   "id": "c151f1a1",
   "metadata": {},
   "outputs": [
    {
     "data": {
      "text/plain": [
       "True"
      ]
     },
     "execution_count": 8,
     "metadata": {},
     "output_type": "execute_result"
    }
   ],
   "source": [
    "True or True"
   ]
  },
  {
   "cell_type": "code",
   "execution_count": 9,
   "id": "0b178950",
   "metadata": {},
   "outputs": [
    {
     "data": {
      "text/plain": [
       "True"
      ]
     },
     "execution_count": 9,
     "metadata": {},
     "output_type": "execute_result"
    }
   ],
   "source": [
    "True or False"
   ]
  },
  {
   "cell_type": "code",
   "execution_count": 10,
   "id": "793b36fa",
   "metadata": {},
   "outputs": [
    {
     "data": {
      "text/plain": [
       "True"
      ]
     },
     "execution_count": 10,
     "metadata": {},
     "output_type": "execute_result"
    }
   ],
   "source": [
    "False or True"
   ]
  },
  {
   "cell_type": "code",
   "execution_count": 11,
   "id": "0edbd4f8",
   "metadata": {},
   "outputs": [
    {
     "data": {
      "text/plain": [
       "False"
      ]
     },
     "execution_count": 11,
     "metadata": {},
     "output_type": "execute_result"
    }
   ],
   "source": [
    "False or False"
   ]
  },
  {
   "cell_type": "markdown",
   "id": "f1721636",
   "metadata": {},
   "source": [
    "# and:"
   ]
  },
  {
   "cell_type": "code",
   "execution_count": 12,
   "id": "09e43061",
   "metadata": {},
   "outputs": [
    {
     "data": {
      "text/plain": [
       "True"
      ]
     },
     "execution_count": 12,
     "metadata": {},
     "output_type": "execute_result"
    }
   ],
   "source": [
    "True and True"
   ]
  },
  {
   "cell_type": "code",
   "execution_count": 13,
   "id": "9acd922e",
   "metadata": {},
   "outputs": [
    {
     "data": {
      "text/plain": [
       "False"
      ]
     },
     "execution_count": 13,
     "metadata": {},
     "output_type": "execute_result"
    }
   ],
   "source": [
    "True and False"
   ]
  },
  {
   "cell_type": "code",
   "execution_count": 14,
   "id": "f3fb3b76",
   "metadata": {},
   "outputs": [
    {
     "data": {
      "text/plain": [
       "False"
      ]
     },
     "execution_count": 14,
     "metadata": {},
     "output_type": "execute_result"
    }
   ],
   "source": [
    "False and True"
   ]
  },
  {
   "cell_type": "code",
   "execution_count": 15,
   "id": "3f149d33",
   "metadata": {},
   "outputs": [
    {
     "data": {
      "text/plain": [
       "False"
      ]
     },
     "execution_count": 15,
     "metadata": {},
     "output_type": "execute_result"
    }
   ],
   "source": [
    "False and False"
   ]
  },
  {
   "cell_type": "markdown",
   "id": "dcab8ba9",
   "metadata": {},
   "source": [
    "# not:"
   ]
  },
  {
   "cell_type": "code",
   "execution_count": 17,
   "id": "d1793a2b",
   "metadata": {},
   "outputs": [
    {
     "data": {
      "text/plain": [
       "False"
      ]
     },
     "execution_count": 17,
     "metadata": {},
     "output_type": "execute_result"
    }
   ],
   "source": [
    "not True"
   ]
  },
  {
   "cell_type": "code",
   "execution_count": 18,
   "id": "6e49454d",
   "metadata": {},
   "outputs": [
    {
     "data": {
      "text/plain": [
       "True"
      ]
     },
     "execution_count": 18,
     "metadata": {},
     "output_type": "execute_result"
    }
   ],
   "source": [
    "not False"
   ]
  },
  {
   "cell_type": "markdown",
   "id": "eeb7f4ed",
   "metadata": {},
   "source": [
    "# 4. What are the values of the following expressions?\n",
    "(5 &gt; 4) and (3 == 5)\n",
    "\n",
    "not (5 &gt; 4)\n",
    "\n",
    "(5 &gt; 4) or (3 == 5)\n",
    "\n",
    "not ((5 &gt; 4) or (3 == 5))\n",
    "\n",
    "(True and True) and (True == False) \n",
    "\n",
    "(not False) or (not True)"
   ]
  },
  {
   "cell_type": "code",
   "execution_count": 19,
   "id": "99c181f4",
   "metadata": {},
   "outputs": [
    {
     "data": {
      "text/plain": [
       "False"
      ]
     },
     "execution_count": 19,
     "metadata": {},
     "output_type": "execute_result"
    }
   ],
   "source": [
    "(5 > 4) and (3 == 5)"
   ]
  },
  {
   "cell_type": "markdown",
   "id": "73112b90",
   "metadata": {},
   "source": [
    "first statement (5>4) is true. but 3==5 is false. Hence, True and False ==> False"
   ]
  },
  {
   "cell_type": "code",
   "execution_count": 22,
   "id": "01dc0991",
   "metadata": {},
   "outputs": [
    {
     "data": {
      "text/plain": [
       "False"
      ]
     },
     "execution_count": 22,
     "metadata": {},
     "output_type": "execute_result"
    }
   ],
   "source": [
    "not (5 > 4)"
   ]
  },
  {
   "cell_type": "markdown",
   "id": "fa2830ca",
   "metadata": {},
   "source": [
    "5>4 is true. Hence not of True is False."
   ]
  },
  {
   "cell_type": "code",
   "execution_count": 23,
   "id": "b0cefeba",
   "metadata": {},
   "outputs": [
    {
     "data": {
      "text/plain": [
       "True"
      ]
     },
     "execution_count": 23,
     "metadata": {},
     "output_type": "execute_result"
    }
   ],
   "source": [
    "(5 > 4) or (3 == 5)"
   ]
  },
  {
   "cell_type": "markdown",
   "id": "d7b1aaea",
   "metadata": {},
   "source": [
    "5> 4 is True, 3==5 is false. Hence, True or False ==> True"
   ]
  },
  {
   "cell_type": "code",
   "execution_count": 24,
   "id": "ac9514ff",
   "metadata": {},
   "outputs": [
    {
     "data": {
      "text/plain": [
       "False"
      ]
     },
     "execution_count": 24,
     "metadata": {},
     "output_type": "execute_result"
    }
   ],
   "source": [
    "not ((5 > 4) or (3 == 5))"
   ]
  },
  {
   "cell_type": "markdown",
   "id": "1dedbb73",
   "metadata": {},
   "source": [
    "5>4 is true, 3==5  is false. True or False ==> True. Hence not True is false."
   ]
  },
  {
   "cell_type": "code",
   "execution_count": 26,
   "id": "11e9aca5",
   "metadata": {},
   "outputs": [
    {
     "data": {
      "text/plain": [
       "False"
      ]
     },
     "execution_count": 26,
     "metadata": {},
     "output_type": "execute_result"
    }
   ],
   "source": [
    "(True and True) and (True == False) "
   ]
  },
  {
   "cell_type": "markdown",
   "id": "c8a1925e",
   "metadata": {},
   "source": [
    "True and True is True. also, True ==False is False. Hence, True and False is false."
   ]
  },
  {
   "cell_type": "code",
   "execution_count": 27,
   "id": "77dcca6b",
   "metadata": {},
   "outputs": [
    {
     "data": {
      "text/plain": [
       "True"
      ]
     },
     "execution_count": 27,
     "metadata": {},
     "output_type": "execute_result"
    }
   ],
   "source": [
    "(not False) or (not True)"
   ]
  },
  {
   "cell_type": "markdown",
   "id": "3bc707a5",
   "metadata": {},
   "source": [
    "not false==> True. not True ==> False. True ot False ==> True"
   ]
  },
  {
   "cell_type": "markdown",
   "id": "cca72f59",
   "metadata": {},
   "source": [
    "# 5. What are the six comparison operators?"
   ]
  },
  {
   "cell_type": "markdown",
   "id": "e7b3a73b",
   "metadata": {},
   "source": [
    "1. less than. '<'\n",
    "2. greater than . '>'\n",
    "3. equal to. '=='\n",
    "4. less than or equal to. '<='\n",
    "5. grether than or equal to. '>='\n",
    "6. not equal to. '!='"
   ]
  },
  {
   "cell_type": "markdown",
   "id": "1131784b",
   "metadata": {},
   "source": [
    "# 6. How do you tell the difference between the equal to and assignment operators?Describe a condition and when you would use one."
   ]
  },
  {
   "cell_type": "markdown",
   "id": "cecd254a",
   "metadata": {},
   "source": [
    "assigment operator is used to assign value whereas equal to operator is used for comparison\n",
    "\n",
    "assignement operator '=' whereas equal to operator '=='"
   ]
  },
  {
   "cell_type": "code",
   "execution_count": 29,
   "id": "e8a4c429",
   "metadata": {},
   "outputs": [],
   "source": [
    "x = 5"
   ]
  },
  {
   "cell_type": "code",
   "execution_count": 30,
   "id": "de92a551",
   "metadata": {},
   "outputs": [
    {
     "data": {
      "text/plain": [
       "False"
      ]
     },
     "execution_count": 30,
     "metadata": {},
     "output_type": "execute_result"
    }
   ],
   "source": [
    "4==5"
   ]
  },
  {
   "cell_type": "markdown",
   "id": "118516f9",
   "metadata": {},
   "source": [
    "here assigment operator is used to assign value 5 to x, where as == is used  to copare 4 and 5."
   ]
  },
  {
   "cell_type": "markdown",
   "id": "011f810a",
   "metadata": {},
   "source": [
    "# 7. Identify the three blocks in this code:\n",
    "spam = 0\n",
    "\n",
    "if spam == 10:\n",
    "\n",
    "print(&#39;eggs&#39;)\n",
    "\n",
    "if spam &gt; 5:\n",
    "\n",
    "print(&#39;bacon&#39;)\n",
    "\n",
    "else:\n",
    "\n",
    "print(&#39;ham&#39;)\n",
    "\n",
    "print(&#39;spam&#39;)\n",
    "\n",
    "print(&#39;spam&#39;)"
   ]
  },
  {
   "cell_type": "markdown",
   "id": "add11056",
   "metadata": {},
   "source": [
    "# Code:"
   ]
  },
  {
   "cell_type": "code",
   "execution_count": 35,
   "id": "9bcf3e5a",
   "metadata": {},
   "outputs": [
    {
     "name": "stdout",
     "output_type": "stream",
     "text": [
      "ham\n"
     ]
    }
   ],
   "source": [
    "spam = 0\n",
    "\n",
    "if spam == 10:\n",
    "\n",
    "    print('eggs')\n",
    "\n",
    "if spam > 5:\n",
    "\n",
    "    print('bacon')\n",
    "\n",
    "else:\n",
    "\n",
    "    print('ham')\n",
    "    print('spam')\n",
    "\n",
    "    print('spam')"
   ]
  },
  {
   "cell_type": "code",
   "execution_count": 36,
   "id": "b0fdd66a",
   "metadata": {},
   "outputs": [],
   "source": [
    "#first block\n",
    "spam = 0"
   ]
  },
  {
   "cell_type": "code",
   "execution_count": 37,
   "id": "e6aeb04f",
   "metadata": {},
   "outputs": [],
   "source": [
    "#second block\n",
    "#single if block\n",
    "if spam == 10:\n",
    "\n",
    "    print('eggs')"
   ]
  },
  {
   "cell_type": "code",
   "execution_count": 38,
   "id": "78669b2b",
   "metadata": {},
   "outputs": [
    {
     "name": "stdout",
     "output_type": "stream",
     "text": [
      "ham\n",
      "spam\n",
      "spam\n"
     ]
    }
   ],
   "source": [
    "#third block\n",
    "#if else block\n",
    "if spam > 5:\n",
    "\n",
    "    print('bacon')\n",
    "\n",
    "else:\n",
    "\n",
    "    print('ham')\n",
    "    print('spam')\n",
    "\n",
    "    print('spam')"
   ]
  },
  {
   "cell_type": "markdown",
   "id": "620dd78b",
   "metadata": {},
   "source": [
    "# 8. Write code that prints Hello if 1 is stored in spam, prints Howdy if 2 is stored in spam, and prints Greetings! if anything else is stored in spam."
   ]
  },
  {
   "cell_type": "code",
   "execution_count": 39,
   "id": "3fb8425b",
   "metadata": {},
   "outputs": [
    {
     "name": "stdout",
     "output_type": "stream",
     "text": [
      "Greetings\n"
     ]
    }
   ],
   "source": [
    "if spam ==1:\n",
    "    print('Hello')\n",
    "elif spam == 2:\n",
    "    print('Howdy')\n",
    "else:\n",
    "    print(\"Greetings\")"
   ]
  },
  {
   "cell_type": "markdown",
   "id": "03f6a095",
   "metadata": {},
   "source": [
    "# 9.If your programme is stuck in an endless loop, what keys you’ll press?"
   ]
  },
  {
   "cell_type": "markdown",
   "id": "2f0efe71",
   "metadata": {},
   "source": [
    " In endless loop, pressing Ctrl + C"
   ]
  },
  {
   "cell_type": "markdown",
   "id": "8f26c209",
   "metadata": {},
   "source": [
    "# 10. How can you tell the difference between break and continue?"
   ]
  },
  {
   "cell_type": "markdown",
   "id": "b1600925",
   "metadata": {},
   "source": [
    "In break statement, after executing break statement, we exit from that loop.\n",
    "In continue statement, after executing continue statement, we go to next loop."
   ]
  },
  {
   "cell_type": "code",
   "execution_count": 55,
   "id": "df21aa98",
   "metadata": {},
   "outputs": [
    {
     "name": "stdout",
     "output_type": "stream",
     "text": [
      "0\n"
     ]
    }
   ],
   "source": [
    "i = 5\n",
    "for i in range(5):\n",
    "    print(i)\n",
    "    break"
   ]
  },
  {
   "cell_type": "markdown",
   "id": "420f3e17",
   "metadata": {},
   "source": [
    "Here after executing break statement, our loop is terminated before it meets it's terminating conditions."
   ]
  },
  {
   "cell_type": "code",
   "execution_count": 53,
   "id": "f8dd5243",
   "metadata": {},
   "outputs": [
    {
     "name": "stdout",
     "output_type": "stream",
     "text": [
      "0\n",
      "1\n",
      "2\n",
      "3\n",
      "4\n"
     ]
    }
   ],
   "source": [
    "i = 5\n",
    "for i in range(5):\n",
    "    print(i)\n",
    "    continue\n",
    "    print('hello')"
   ]
  },
  {
   "cell_type": "markdown",
   "id": "e2a6b5e0",
   "metadata": {},
   "source": [
    "Here, after executing continue, it didn't printed hello. It simply skipped for the next interation."
   ]
  },
  {
   "cell_type": "markdown",
   "id": "a79f29a8",
   "metadata": {},
   "source": [
    "# 11. In a for loop, what is the difference between range(10), range(0, 10), and range(0, 10, 1)?"
   ]
  },
  {
   "cell_type": "markdown",
   "id": "4b75693c",
   "metadata": {},
   "source": [
    "Here, range(10) represent integer values from 0 to 10, 10 not included."
   ]
  },
  {
   "cell_type": "markdown",
   "id": "3b5d8294",
   "metadata": {},
   "source": [
    "range(0,10) means 0 is lower limit and 10 is higher limit. So it also represt integer values 0 to 10, upper limit(10) not included"
   ]
  },
  {
   "cell_type": "markdown",
   "id": "b0f47d96",
   "metadata": {},
   "source": [
    "range(0, 10, 1) means lower limit 0, upper limit 10 and step size is 1. Since default size is always 1, it also represt same numbers."
   ]
  },
  {
   "cell_type": "markdown",
   "id": "754172fd",
   "metadata": {},
   "source": [
    "# 12. Write a short program that prints the numbers 1 to 10 using a for loop. Then write an equivalent program that prints the numbers 1 to 10 using a while loop."
   ]
  },
  {
   "cell_type": "code",
   "execution_count": 58,
   "id": "50d3a997",
   "metadata": {},
   "outputs": [
    {
     "name": "stdout",
     "output_type": "stream",
     "text": [
      "0\n",
      "1\n",
      "2\n",
      "3\n",
      "4\n",
      "5\n",
      "6\n",
      "7\n",
      "8\n",
      "9\n",
      "10\n"
     ]
    }
   ],
   "source": [
    "for i in range(11):\n",
    "    print(i)"
   ]
  },
  {
   "cell_type": "code",
   "execution_count": 62,
   "id": "065d0553",
   "metadata": {},
   "outputs": [
    {
     "name": "stdout",
     "output_type": "stream",
     "text": [
      "0\n",
      "1\n",
      "2\n",
      "3\n",
      "4\n",
      "5\n",
      "6\n",
      "7\n",
      "8\n",
      "9\n",
      "10\n"
     ]
    }
   ],
   "source": [
    "i = 0\n",
    "while(i<=10):\n",
    "    print(i)\n",
    "    i= i+1"
   ]
  },
  {
   "cell_type": "markdown",
   "id": "40e65f31",
   "metadata": {},
   "source": [
    "# If you had a function named bacon() inside a module named spam, how would you call it after importing spam?"
   ]
  },
  {
   "cell_type": "markdown",
   "id": "a75aeb6b",
   "metadata": {},
   "source": [
    "spam.bacon()"
   ]
  },
  {
   "cell_type": "code",
   "execution_count": null,
   "id": "e5882853",
   "metadata": {},
   "outputs": [],
   "source": []
  }
 ],
 "metadata": {
  "kernelspec": {
   "display_name": "Python 3",
   "language": "python",
   "name": "python3"
  },
  "language_info": {
   "codemirror_mode": {
    "name": "ipython",
    "version": 3
   },
   "file_extension": ".py",
   "mimetype": "text/x-python",
   "name": "python",
   "nbconvert_exporter": "python",
   "pygments_lexer": "ipython3",
   "version": "3.8.10"
  }
 },
 "nbformat": 4,
 "nbformat_minor": 5
}
