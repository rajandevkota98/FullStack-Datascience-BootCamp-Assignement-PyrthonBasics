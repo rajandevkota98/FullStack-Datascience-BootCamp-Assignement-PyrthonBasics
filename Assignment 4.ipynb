{
 "cells": [
  {
   "cell_type": "markdown",
   "id": "c059b3df",
   "metadata": {},
   "source": [
    "## 1. What exactly is []?"
   ]
  },
  {
   "cell_type": "markdown",
   "id": "36954782",
   "metadata": {},
   "source": [
    "----> It is an empty list."
   ]
  },
  {
   "cell_type": "markdown",
   "id": "927baae4",
   "metadata": {},
   "source": [
    "# 2. In a list of values stored in a variable called spam, how would you assign the value &#39;hello&#39; as the third value? (Assume [2, 4, 6, 8, 10] are in spam.)"
   ]
  },
  {
   "cell_type": "code",
   "execution_count": 1,
   "id": "9387b513",
   "metadata": {},
   "outputs": [],
   "source": [
    "spam = [2,3,6,8,10]"
   ]
  },
  {
   "cell_type": "code",
   "execution_count": 2,
   "id": "32ce55ae",
   "metadata": {},
   "outputs": [],
   "source": [
    "spam[3] = 'hello'"
   ]
  },
  {
   "cell_type": "code",
   "execution_count": 3,
   "id": "5414b282",
   "metadata": {},
   "outputs": [
    {
     "data": {
      "text/plain": [
       "[2, 3, 6, 'hello', 10]"
      ]
     },
     "execution_count": 3,
     "metadata": {},
     "output_type": "execute_result"
    }
   ],
   "source": [
    "spam"
   ]
  },
  {
   "cell_type": "markdown",
   "id": "0e0a4fb5",
   "metadata": {},
   "source": [
    "## 3. What is the value of spam[int(int(&#39;3&#39; * 2) / 11)]?"
   ]
  },
  {
   "cell_type": "markdown",
   "id": "0bc3e885",
   "metadata": {},
   "source": [
    "spam = ['a','b','c','d']"
   ]
  },
  {
   "cell_type": "code",
   "execution_count": 84,
   "id": "5263982c",
   "metadata": {},
   "outputs": [
    {
     "data": {
      "text/plain": [
       "'d'"
      ]
     },
     "execution_count": 84,
     "metadata": {},
     "output_type": "execute_result"
    }
   ],
   "source": [
    "spam[int(int('3'*2)/11)]"
   ]
  },
  {
   "cell_type": "code",
   "execution_count": 85,
   "id": "a5f462d0",
   "metadata": {},
   "outputs": [
    {
     "data": {
      "text/plain": [
       "3"
      ]
     },
     "execution_count": 85,
     "metadata": {},
     "output_type": "execute_result"
    }
   ],
   "source": [
    "int(int('3'*2)/11)"
   ]
  },
  {
   "cell_type": "markdown",
   "id": "a96e78c7",
   "metadata": {},
   "source": [
    "## 4. What is the value of spam[-1]?"
   ]
  },
  {
   "cell_type": "markdown",
   "id": "82ffbac0",
   "metadata": {},
   "source": [
    "d"
   ]
  },
  {
   "cell_type": "markdown",
   "id": "0798158f",
   "metadata": {},
   "source": [
    "## 5. What is the value of spam[:2]?"
   ]
  },
  {
   "cell_type": "code",
   "execution_count": 86,
   "id": "a476404e",
   "metadata": {},
   "outputs": [
    {
     "data": {
      "text/plain": [
       "['a', 'b']"
      ]
     },
     "execution_count": 86,
     "metadata": {},
     "output_type": "execute_result"
    }
   ],
   "source": [
    "spam[:2]"
   ]
  },
  {
   "cell_type": "markdown",
   "id": "f38ca6b8",
   "metadata": {},
   "source": [
    "# Let&#39;s pretend bacon has the list [3.14, &#39;cat,&#39; 11, &#39;cat,&#39; True] for the next three questions."
   ]
  },
  {
   "cell_type": "markdown",
   "id": "d8e46eae",
   "metadata": {},
   "source": [
    "## 6. What is the value of bacon.index(&#39;cat&#39;)?}"
   ]
  },
  {
   "cell_type": "code",
   "execution_count": 87,
   "id": "52abdcde",
   "metadata": {},
   "outputs": [],
   "source": [
    "bacon = [3.14, 'cat',11,'cat', True]"
   ]
  },
  {
   "cell_type": "code",
   "execution_count": 88,
   "id": "beddcf82",
   "metadata": {},
   "outputs": [
    {
     "data": {
      "text/plain": [
       "1"
      ]
     },
     "execution_count": 88,
     "metadata": {},
     "output_type": "execute_result"
    }
   ],
   "source": [
    "bacon.index('cat')"
   ]
  },
  {
   "cell_type": "markdown",
   "id": "ca4bc436",
   "metadata": {},
   "source": [
    "## Gives the first occerence index"
   ]
  },
  {
   "cell_type": "markdown",
   "id": "1e3707cd",
   "metadata": {},
   "source": [
    "## 7. How does bacon.append(99) change the look of the list value in bacon?"
   ]
  },
  {
   "cell_type": "code",
   "execution_count": 89,
   "id": "fc1259a7",
   "metadata": {},
   "outputs": [],
   "source": [
    "bacon.append(99)"
   ]
  },
  {
   "cell_type": "code",
   "execution_count": 90,
   "id": "4282a289",
   "metadata": {},
   "outputs": [
    {
     "data": {
      "text/plain": [
       "[3.14, 'cat', 11, 'cat', True, 99]"
      ]
     },
     "execution_count": 90,
     "metadata": {},
     "output_type": "execute_result"
    }
   ],
   "source": [
    "bacon"
   ]
  },
  {
   "cell_type": "markdown",
   "id": "04f9a438",
   "metadata": {},
   "source": [
    " Add 99 at the end of the bacon list."
   ]
  },
  {
   "cell_type": "markdown",
   "id": "8b6134a3",
   "metadata": {},
   "source": [
    "## 8. How does bacon.remove(&#39;cat&#39;) change the look of the list in bacon?"
   ]
  },
  {
   "cell_type": "code",
   "execution_count": 18,
   "id": "7fea27fb",
   "metadata": {},
   "outputs": [],
   "source": [
    "bacon.remove('cat')"
   ]
  },
  {
   "cell_type": "code",
   "execution_count": 19,
   "id": "ce47114c",
   "metadata": {},
   "outputs": [
    {
     "data": {
      "text/plain": [
       "[3.14, 11, 'cat', True, 99]"
      ]
     },
     "execution_count": 19,
     "metadata": {},
     "output_type": "execute_result"
    }
   ],
   "source": [
    "bacon"
   ]
  },
  {
   "cell_type": "markdown",
   "id": "18464376",
   "metadata": {},
   "source": [
    "Removes from the first occerence."
   ]
  },
  {
   "cell_type": "markdown",
   "id": "fd762ceb",
   "metadata": {},
   "source": [
    "## 9. What are the list concatenation and list replication operators?"
   ]
  },
  {
   "cell_type": "markdown",
   "id": "367e2207",
   "metadata": {},
   "source": [
    "Concatenation: + operator concatenate the string.\n"
   ]
  },
  {
   "cell_type": "code",
   "execution_count": 91,
   "id": "8ecb5289",
   "metadata": {},
   "outputs": [
    {
     "name": "stdout",
     "output_type": "stream",
     "text": [
      "HelloThere\n"
     ]
    }
   ],
   "source": [
    "# example\n",
    "s1 = 'Hello'\n",
    "s2 = 'There'\n",
    "\n",
    "final = s1 + s2\n",
    "print(final)"
   ]
  },
  {
   "cell_type": "markdown",
   "id": "222e6c3b",
   "metadata": {},
   "source": [
    "Replication: * operator works as a replication operator."
   ]
  },
  {
   "cell_type": "code",
   "execution_count": 92,
   "id": "78478cbd",
   "metadata": {},
   "outputs": [
    {
     "name": "stdout",
     "output_type": "stream",
     "text": [
      "HelloHelloHello\n"
     ]
    }
   ],
   "source": [
    "#example\n",
    "times = 3\n",
    "print(s1* times)"
   ]
  },
  {
   "cell_type": "markdown",
   "id": "d88fcaea",
   "metadata": {},
   "source": [
    "## 10. What is difference between the list methods append() and insert()?"
   ]
  },
  {
   "cell_type": "markdown",
   "id": "a5b1f2f9",
   "metadata": {},
   "source": [
    "Append: it is used to add the element at the end of the list."
   ]
  },
  {
   "cell_type": "code",
   "execution_count": 93,
   "id": "1cec467b",
   "metadata": {},
   "outputs": [],
   "source": [
    "new_list = [1,2,3,4,5]"
   ]
  },
  {
   "cell_type": "code",
   "execution_count": 94,
   "id": "627e24f3",
   "metadata": {},
   "outputs": [],
   "source": [
    "new_list.append('append')"
   ]
  },
  {
   "cell_type": "code",
   "execution_count": 95,
   "id": "1f7b2e14",
   "metadata": {},
   "outputs": [
    {
     "data": {
      "text/plain": [
       "[1, 2, 3, 4, 5, 'append']"
      ]
     },
     "execution_count": 95,
     "metadata": {},
     "output_type": "execute_result"
    }
   ],
   "source": [
    "new_list"
   ]
  },
  {
   "cell_type": "markdown",
   "id": "3f376e75",
   "metadata": {},
   "source": [
    "insert: it is used to insert element into the desired position."
   ]
  },
  {
   "cell_type": "code",
   "execution_count": 96,
   "id": "6e4a8550",
   "metadata": {},
   "outputs": [],
   "source": [
    "new_list.insert(1, 'inserting')"
   ]
  },
  {
   "cell_type": "code",
   "execution_count": 32,
   "id": "14a59d3d",
   "metadata": {},
   "outputs": [
    {
     "data": {
      "text/plain": [
       "[1, 'inserting', 2, 3, 4, 5, 'append']"
      ]
     },
     "execution_count": 32,
     "metadata": {},
     "output_type": "execute_result"
    }
   ],
   "source": [
    "new_list"
   ]
  },
  {
   "cell_type": "markdown",
   "id": "6e07577d",
   "metadata": {},
   "source": [
    "# 11. What are the two methods for removing items from a list?"
   ]
  },
  {
   "cell_type": "code",
   "execution_count": 97,
   "id": "4d228023",
   "metadata": {},
   "outputs": [],
   "source": [
    "new_list = [1,2,3,4,5, 'cat']"
   ]
  },
  {
   "cell_type": "markdown",
   "id": "ff4eb12f",
   "metadata": {},
   "source": [
    "a) Remove"
   ]
  },
  {
   "cell_type": "code",
   "execution_count": 98,
   "id": "0709b57d",
   "metadata": {},
   "outputs": [],
   "source": [
    "new_list.remove(1)"
   ]
  },
  {
   "cell_type": "code",
   "execution_count": 99,
   "id": "60a75c98",
   "metadata": {},
   "outputs": [
    {
     "data": {
      "text/plain": [
       "[2, 3, 4, 5, 'cat']"
      ]
     },
     "execution_count": 99,
     "metadata": {},
     "output_type": "execute_result"
    }
   ],
   "source": [
    "new_list"
   ]
  },
  {
   "cell_type": "code",
   "execution_count": 100,
   "id": "3008d5c4",
   "metadata": {},
   "outputs": [],
   "source": [
    "new_list.remove('cat')"
   ]
  },
  {
   "cell_type": "code",
   "execution_count": 101,
   "id": "c2ebcabc",
   "metadata": {},
   "outputs": [
    {
     "data": {
      "text/plain": [
       "[2, 3, 4, 5]"
      ]
     },
     "execution_count": 101,
     "metadata": {},
     "output_type": "execute_result"
    }
   ],
   "source": [
    "new_list"
   ]
  },
  {
   "cell_type": "markdown",
   "id": "7ee15622",
   "metadata": {},
   "source": [
    "It is used to remove desired element."
   ]
  },
  {
   "cell_type": "markdown",
   "id": "249c5cdb",
   "metadata": {},
   "source": [
    "b) Pop"
   ]
  },
  {
   "cell_type": "code",
   "execution_count": 102,
   "id": "71ca2813",
   "metadata": {},
   "outputs": [
    {
     "data": {
      "text/plain": [
       "5"
      ]
     },
     "execution_count": 102,
     "metadata": {},
     "output_type": "execute_result"
    }
   ],
   "source": [
    "new_list.pop()"
   ]
  },
  {
   "cell_type": "code",
   "execution_count": 103,
   "id": "438d835f",
   "metadata": {},
   "outputs": [
    {
     "data": {
      "text/plain": [
       "[2, 3, 4]"
      ]
     },
     "execution_count": 103,
     "metadata": {},
     "output_type": "execute_result"
    }
   ],
   "source": [
    "new_list"
   ]
  },
  {
   "cell_type": "markdown",
   "id": "4d0063c6",
   "metadata": {},
   "source": [
    "It remove the element from the end."
   ]
  },
  {
   "cell_type": "markdown",
   "id": "bd08e096",
   "metadata": {},
   "source": [
    "# 12. Describe how list values and string values are identical."
   ]
  },
  {
   "cell_type": "markdown",
   "id": "e8be2124",
   "metadata": {},
   "source": [
    "Both are mutable, means their value can be changed."
   ]
  },
  {
   "cell_type": "markdown",
   "id": "8d6d89b3",
   "metadata": {},
   "source": [
    "# 13. What&#39;s the difference between tuples and lists?"
   ]
  },
  {
   "cell_type": "markdown",
   "id": "65d72241",
   "metadata": {},
   "source": [
    "----> Tuples are immutable and lists are mutable."
   ]
  },
  {
   "cell_type": "markdown",
   "id": "695e311c",
   "metadata": {},
   "source": [
    "# 14. How do you type a tuple value that only contains the integer 42?"
   ]
  },
  {
   "cell_type": "code",
   "execution_count": 104,
   "id": "0ad55b1f",
   "metadata": {},
   "outputs": [],
   "source": [
    "new_tuple = (42,)"
   ]
  },
  {
   "cell_type": "code",
   "execution_count": 105,
   "id": "a70486d9",
   "metadata": {},
   "outputs": [
    {
     "data": {
      "text/plain": [
       "tuple"
      ]
     },
     "execution_count": 105,
     "metadata": {},
     "output_type": "execute_result"
    }
   ],
   "source": [
    "type(new_tuple)"
   ]
  },
  {
   "cell_type": "markdown",
   "id": "dd1fc232",
   "metadata": {},
   "source": [
    "## 15. How do you get a list value&#39;s tuple form? How do you get a tuple value&#39;s list form?"
   ]
  },
  {
   "cell_type": "code",
   "execution_count": 106,
   "id": "166ec3db",
   "metadata": {},
   "outputs": [
    {
     "name": "stdout",
     "output_type": "stream",
     "text": [
      "(1, 2, 3)\n"
     ]
    }
   ],
   "source": [
    "my_list = [1, 2, 3]\n",
    "my_tuple = tuple(my_list)\n",
    "print(my_tuple)  # prints (1, 2, 3)\n"
   ]
  },
  {
   "cell_type": "code",
   "execution_count": 107,
   "id": "98339c69",
   "metadata": {},
   "outputs": [
    {
     "name": "stdout",
     "output_type": "stream",
     "text": [
      "[1, 2, 3, 4]\n"
     ]
    }
   ],
   "source": [
    "my_tuple = (1,2,3,4,)\n",
    "my_list = list(my_tuple)\n",
    "print(my_list)"
   ]
  },
  {
   "cell_type": "markdown",
   "id": "2ae24f86",
   "metadata": {},
   "source": [
    "## 16. Variables that &quot;contain&quot; list values are not necessarily lists themselves. Instead, what do they contain?"
   ]
  },
  {
   "cell_type": "code",
   "execution_count": 108,
   "id": "b385a183",
   "metadata": {},
   "outputs": [],
   "source": [
    "# they can reference to another list\n",
    "\n",
    "my_list = [1,2,3,4]\n",
    "another_list = my_list"
   ]
  },
  {
   "cell_type": "code",
   "execution_count": 109,
   "id": "d4cfabb6",
   "metadata": {},
   "outputs": [
    {
     "data": {
      "text/plain": [
       "[1, 2, 3, 4]"
      ]
     },
     "execution_count": 109,
     "metadata": {},
     "output_type": "execute_result"
    }
   ],
   "source": [
    "another_list"
   ]
  },
  {
   "cell_type": "markdown",
   "id": "6dec8093",
   "metadata": {},
   "source": [
    "## 17. How do you distinguish between copy.copy() and copy.deepcopy()?"
   ]
  },
  {
   "cell_type": "code",
   "execution_count": 110,
   "id": "cd5eb1db",
   "metadata": {},
   "outputs": [
    {
     "name": "stdout",
     "output_type": "stream",
     "text": [
      "[1, [2, 3], 4]\n",
      "[1, [99, 3], 4]\n",
      "[1, [99, 3], 4]\n"
     ]
    }
   ],
   "source": [
    "import copy\n",
    "\n",
    "original_list = [1, [2, 3], 4]\n",
    "copied_list = copy.copy(original_list)\n",
    "print(copied_list)\n",
    "original_list[1][0] = 99  # modify a nested object in the original list\n",
    "\n",
    "print(original_list)  # prints [1, [99, 3], 4]\n",
    "print(copied_list)  # prints [1, [99, 3], 4], because the nested object was not copied\n"
   ]
  },
  {
   "cell_type": "code",
   "execution_count": 111,
   "id": "78b67676",
   "metadata": {},
   "outputs": [
    {
     "name": "stdout",
     "output_type": "stream",
     "text": [
      "[1, [99, 3], 4]\n",
      "[1, [2, 3], 4]\n"
     ]
    }
   ],
   "source": [
    "import copy\n",
    "\n",
    "original_list = [1, [2, 3], 4]\n",
    "deepcopied_list = copy.deepcopy(original_list)\n",
    "\n",
    "original_list[1][0] = 99  # modify a nested object in the original list\n",
    "\n",
    "print(original_list)  # prints [1, [99, 3], 4]\n",
    "print(deepcopied_list)  # prints [1, [2, 3], 4], because the nested object was copied\n"
   ]
  },
  {
   "cell_type": "markdown",
   "id": "4f1ab83b",
   "metadata": {},
   "source": [
    "Nested object is coppied in deepcopy whereas it is not saved in copy."
   ]
  }
 ],
 "metadata": {
  "kernelspec": {
   "display_name": "Python 3 (ipykernel)",
   "language": "python",
   "name": "python3"
  },
  "language_info": {
   "codemirror_mode": {
    "name": "ipython",
    "version": 3
   },
   "file_extension": ".py",
   "mimetype": "text/x-python",
   "name": "python",
   "nbconvert_exporter": "python",
   "pygments_lexer": "ipython3",
   "version": "3.10.9"
  }
 },
 "nbformat": 4,
 "nbformat_minor": 5
}
