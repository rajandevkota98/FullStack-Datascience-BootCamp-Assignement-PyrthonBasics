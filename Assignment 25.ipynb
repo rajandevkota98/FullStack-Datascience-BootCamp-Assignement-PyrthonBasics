{
 "cells": [
  {
   "cell_type": "markdown",
   "id": "aff18b71",
   "metadata": {},
   "source": [
    "# 1) . What is the difference between enclosing a list comprehension in square brackets and parentheses?"
   ]
  },
  {
   "cell_type": "code",
   "execution_count": 2,
   "id": "ef6a5042",
   "metadata": {},
   "outputs": [],
   "source": [
    "list_in_square = [i for i in range(0,10)]"
   ]
  },
  {
   "cell_type": "code",
   "execution_count": 22,
   "id": "c56639f9",
   "metadata": {},
   "outputs": [],
   "source": [
    "list_in_parentheses = (i for i in range(0,10))"
   ]
  },
  {
   "cell_type": "code",
   "execution_count": 4,
   "id": "37a02e7c",
   "metadata": {},
   "outputs": [
    {
     "data": {
      "text/plain": [
       "[0, 1, 2, 3, 4, 5, 6, 7, 8, 9]"
      ]
     },
     "execution_count": 4,
     "metadata": {},
     "output_type": "execute_result"
    }
   ],
   "source": [
    "list_in_square"
   ]
  },
  {
   "cell_type": "code",
   "execution_count": 5,
   "id": "cf096ae1",
   "metadata": {},
   "outputs": [
    {
     "data": {
      "text/plain": [
       "list"
      ]
     },
     "execution_count": 5,
     "metadata": {},
     "output_type": "execute_result"
    }
   ],
   "source": [
    "type(list_in_square)"
   ]
  },
  {
   "cell_type": "code",
   "execution_count": 6,
   "id": "e00ea65e",
   "metadata": {},
   "outputs": [
    {
     "data": {
      "text/plain": [
       "<generator object <genexpr> at 0x7fda8fa75620>"
      ]
     },
     "execution_count": 6,
     "metadata": {},
     "output_type": "execute_result"
    }
   ],
   "source": [
    "list_in_parentheses"
   ]
  },
  {
   "cell_type": "code",
   "execution_count": 25,
   "id": "8a4821de",
   "metadata": {},
   "outputs": [],
   "source": [
    "x = list_in_parentheses"
   ]
  },
  {
   "cell_type": "code",
   "execution_count": 28,
   "id": "f15a560c",
   "metadata": {},
   "outputs": [
    {
     "data": {
      "text/plain": [
       "1"
      ]
     },
     "execution_count": 28,
     "metadata": {},
     "output_type": "execute_result"
    }
   ],
   "source": [
    "next(x)"
   ]
  },
  {
   "cell_type": "code",
   "execution_count": 29,
   "id": "651b87d1",
   "metadata": {},
   "outputs": [
    {
     "data": {
      "text/plain": [
       "generator"
      ]
     },
     "execution_count": 29,
     "metadata": {},
     "output_type": "execute_result"
    }
   ],
   "source": [
    "type(list_in_parentheses)"
   ]
  },
  {
   "cell_type": "markdown",
   "id": "a568dc2c",
   "metadata": {},
   "source": [
    "so, the list comprehension on parentheses become generator."
   ]
  },
  {
   "cell_type": "code",
   "execution_count": 8,
   "id": "1046a025",
   "metadata": {},
   "outputs": [
    {
     "name": "stdout",
     "output_type": "stream",
     "text": [
      "0\n",
      "1\n",
      "2\n",
      "3\n",
      "4\n",
      "5\n",
      "6\n",
      "7\n",
      "8\n",
      "9\n"
     ]
    }
   ],
   "source": [
    "for i in list_in_parentheses:\n",
    "    print(i)"
   ]
  },
  {
   "cell_type": "markdown",
   "id": "b86bb66f",
   "metadata": {},
   "source": [
    "# 2) What is the relationship between generators and iterators?"
   ]
  },
  {
   "cell_type": "code",
   "execution_count": 11,
   "id": "bb2325d7",
   "metadata": {},
   "outputs": [],
   "source": [
    "def gen(n):\n",
    "    yield n+1"
   ]
  },
  {
   "cell_type": "code",
   "execution_count": 12,
   "id": "048158e9",
   "metadata": {},
   "outputs": [],
   "source": [
    "x = gen(5)"
   ]
  },
  {
   "cell_type": "markdown",
   "id": "a96b08b7",
   "metadata": {},
   "source": [
    "# next(x)"
   ]
  },
  {
   "cell_type": "code",
   "execution_count": 16,
   "id": "83c3666f",
   "metadata": {},
   "outputs": [
    {
     "ename": "StopIteration",
     "evalue": "",
     "output_type": "error",
     "traceback": [
      "\u001b[0;31m---------------------------------------------------------------------------\u001b[0m",
      "\u001b[0;31mStopIteration\u001b[0m                             Traceback (most recent call last)",
      "Cell \u001b[0;32mIn[16], line 1\u001b[0m\n\u001b[0;32m----> 1\u001b[0m \u001b[38;5;28;43mnext\u001b[39;49m\u001b[43m(\u001b[49m\u001b[43mx\u001b[49m\u001b[43m)\u001b[49m\n",
      "\u001b[0;31mStopIteration\u001b[0m: "
     ]
    }
   ],
   "source": [
    "next(x)"
   ]
  },
  {
   "cell_type": "code",
   "execution_count": 17,
   "id": "1038a8e3",
   "metadata": {},
   "outputs": [],
   "source": [
    "def my_generator():\n",
    "    yield 1\n",
    "    yield 2\n",
    "    yield 3"
   ]
  },
  {
   "cell_type": "code",
   "execution_count": 18,
   "id": "baa9d2d1",
   "metadata": {},
   "outputs": [],
   "source": [
    "x = my_generator()"
   ]
  },
  {
   "cell_type": "code",
   "execution_count": 19,
   "id": "15e75192",
   "metadata": {},
   "outputs": [
    {
     "data": {
      "text/plain": [
       "1"
      ]
     },
     "execution_count": 19,
     "metadata": {},
     "output_type": "execute_result"
    }
   ],
   "source": [
    "next(x)"
   ]
  },
  {
   "cell_type": "markdown",
   "id": "8d038174",
   "metadata": {},
   "source": [
    "Overall, the main difference between generators and other iterators is that generators use a function-based approach to produce a sequence of values on-the-fly, rather than precomputing the entire sequence in memory. This makes generators useful for dealing with large datasets, or for generating sequences that are too large to fit in memory."
   ]
  },
  {
   "cell_type": "markdown",
   "id": "ca79d474",
   "metadata": {},
   "source": [
    "# 3) What are the signs that a function is a generator function?"
   ]
  },
  {
   "cell_type": "markdown",
   "id": "1de46a0a",
   "metadata": {},
   "source": [
    "The function contains at least one yield statement: In Python, the yield keyword is used to define a generator function. If a function contains at least one yield statement, it is considered a generator function.\n",
    "    \n",
    "\n",
    "The function returns a generator object: When a generator function is called, it does not actually execute any code until its __next__() method is called. Instead, it returns a generator object that can be used to iterate over a sequence of values. Therefore, if a function "
   ]
  },
  {
   "cell_type": "markdown",
   "id": "782443c9",
   "metadata": {},
   "source": [
    "# 4) What is the purpose of a yield statement?"
   ]
  },
  {
   "cell_type": "markdown",
   "id": "1f8a0e4e",
   "metadata": {},
   "source": [
    "In Python, the yield keyword is used in generator functions to produce a sequence of values on-the-fly. When a yield statement is encountered in a generator function, the function's state is saved and the yielded value is returned to the caller. The next time the generator's __next__() method is called, execution resumes from where it left off, and the function continues until the next yield statement is encountered."
   ]
  },
  {
   "cell_type": "markdown",
   "id": "cf4778c3",
   "metadata": {},
   "source": [
    "# 5) What is the relationship between map calls and list comprehensions? Make a comparison and contrast between the two"
   ]
  },
  {
   "cell_type": "markdown",
   "id": "167fdcc5",
   "metadata": {},
   "source": [
    "map applies a function to each element in an iterable and returns a new iterable with the results. Here's an example:"
   ]
  },
  {
   "cell_type": "code",
   "execution_count": 36,
   "id": "4b012a5b",
   "metadata": {},
   "outputs": [],
   "source": [
    "numbers = [1, 2, 3, 4, 5]\n",
    "squared_numbers = map(lambda x: x**2, numbers)\n"
   ]
  },
  {
   "cell_type": "code",
   "execution_count": 37,
   "id": "46cd2d22",
   "metadata": {},
   "outputs": [
    {
     "data": {
      "text/plain": [
       "[1, 4, 9, 16, 25]"
      ]
     },
     "execution_count": 37,
     "metadata": {},
     "output_type": "execute_result"
    }
   ],
   "source": [
    "list(squared_numbers)"
   ]
  },
  {
   "cell_type": "markdown",
   "id": "82b4a967",
   "metadata": {},
   "source": [
    "A list comprehension, on the other hand, creates a new list by applying an expression to each element in an iterable. Here's an example:"
   ]
  },
  {
   "cell_type": "code",
   "execution_count": 33,
   "id": "6e88becc",
   "metadata": {},
   "outputs": [],
   "source": [
    "numbers = [1, 2, 3, 4, 5]\n",
    "squared_numbers = [x**2 for x in numbers]\n"
   ]
  },
  {
   "cell_type": "code",
   "execution_count": 34,
   "id": "b12efa10",
   "metadata": {},
   "outputs": [
    {
     "data": {
      "text/plain": [
       "[1, 4, 9, 16, 25]"
      ]
     },
     "execution_count": 34,
     "metadata": {},
     "output_type": "execute_result"
    }
   ],
   "source": [
    "squared_numbers"
   ]
  }
 ],
 "metadata": {
  "kernelspec": {
   "display_name": "Python 3 (ipykernel)",
   "language": "python",
   "name": "python3"
  },
  "language_info": {
   "codemirror_mode": {
    "name": "ipython",
    "version": 3
   },
   "file_extension": ".py",
   "mimetype": "text/x-python",
   "name": "python",
   "nbconvert_exporter": "python",
   "pygments_lexer": "ipython3",
   "version": "3.10.9"
  }
 },
 "nbformat": 4,
 "nbformat_minor": 5
}
